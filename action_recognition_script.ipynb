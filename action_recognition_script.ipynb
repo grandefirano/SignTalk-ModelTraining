{
 "cells": [
  {
   "cell_type": "markdown",
   "metadata": {},
   "source": [
    "<h1>Konfiguracja</h1>"
   ]
  },
  {
   "cell_type": "markdown",
   "metadata": {},
   "source": [
    "<h3>Instalacja bibliotek</h3>"
   ]
  },
  {
   "cell_type": "code",
   "execution_count": 3,
   "metadata": {},
   "outputs": [
    {
     "name": "stdout",
     "output_type": "stream",
     "text": [
      "Requirement already satisfied: moviepy in d:\\programy_down\\anaconda\\lib\\site-packages (1.0.3)\n",
      "Requirement already satisfied: proglog<=1.0.0 in d:\\programy_down\\anaconda\\lib\\site-packages (from moviepy) (0.1.10)\n",
      "Requirement already satisfied: requests<3.0,>=2.8.1 in d:\\programy_down\\anaconda\\lib\\site-packages (from moviepy) (2.28.1)\n",
      "Requirement already satisfied: tqdm<5.0,>=4.11.2 in d:\\programy_down\\anaconda\\lib\\site-packages (from moviepy) (4.64.1)\n",
      "Requirement already satisfied: numpy>=1.17.3 in d:\\programy_down\\anaconda\\lib\\site-packages (from moviepy) (1.23.5)\n",
      "Requirement already satisfied: imageio-ffmpeg>=0.2.0 in d:\\programy_down\\anaconda\\lib\\site-packages (from moviepy) (0.4.9)\n",
      "Requirement already satisfied: decorator<5.0,>=4.0.2 in d:\\programy_down\\anaconda\\lib\\site-packages (from moviepy) (4.4.2)\n",
      "Requirement already satisfied: imageio<3.0,>=2.5 in d:\\programy_down\\anaconda\\lib\\site-packages (from moviepy) (2.26.0)\n",
      "Requirement already satisfied: pillow>=8.3.2 in d:\\programy_down\\anaconda\\lib\\site-packages (from imageio<3.0,>=2.5->moviepy) (9.4.0)\n",
      "Requirement already satisfied: setuptools in d:\\programy_down\\anaconda\\lib\\site-packages (from imageio-ffmpeg>=0.2.0->moviepy) (65.6.3)\n",
      "Requirement already satisfied: idna<4,>=2.5 in d:\\programy_down\\anaconda\\lib\\site-packages (from requests<3.0,>=2.8.1->moviepy) (3.4)\n",
      "Requirement already satisfied: urllib3<1.27,>=1.21.1 in d:\\programy_down\\anaconda\\lib\\site-packages (from requests<3.0,>=2.8.1->moviepy) (1.26.14)\n",
      "Requirement already satisfied: certifi>=2017.4.17 in d:\\programy_down\\anaconda\\lib\\site-packages (from requests<3.0,>=2.8.1->moviepy) (2023.5.7)\n",
      "Requirement already satisfied: charset-normalizer<3,>=2 in d:\\programy_down\\anaconda\\lib\\site-packages (from requests<3.0,>=2.8.1->moviepy) (2.0.4)\n",
      "Requirement already satisfied: colorama in d:\\programy_down\\anaconda\\lib\\site-packages (from tqdm<5.0,>=4.11.2->moviepy) (0.4.6)\n"
     ]
    },
    {
     "name": "stderr",
     "output_type": "stream",
     "text": [
      "WARNING: Ignoring invalid distribution -pencv-python-headless (d:\\programy_down\\anaconda\\lib\\site-packages)\n",
      "WARNING: Ignoring invalid distribution -pencv-python-headless (d:\\programy_down\\anaconda\\lib\\site-packages)\n",
      "WARNING: Ignoring invalid distribution -pencv-python-headless (d:\\programy_down\\anaconda\\lib\\site-packages)\n",
      "WARNING: Ignoring invalid distribution -pencv-python-headless (d:\\programy_down\\anaconda\\lib\\site-packages)\n",
      "WARNING: Ignoring invalid distribution -pencv-python-headless (d:\\programy_down\\anaconda\\lib\\site-packages)\n",
      "WARNING: Ignoring invalid distribution -pencv-python-headless (d:\\programy_down\\anaconda\\lib\\site-packages)\n"
     ]
    },
    {
     "name": "stdout",
     "output_type": "stream",
     "text": [
      "Requirement already satisfied: mediapipe in d:\\programy_down\\anaconda\\lib\\site-packages (0.10.8)\n",
      "Requirement already satisfied: protobuf<4,>=3.11 in d:\\programy_down\\anaconda\\lib\\site-packages (from mediapipe) (3.20.3)\n",
      "Requirement already satisfied: matplotlib in d:\\programy_down\\anaconda\\lib\\site-packages (from mediapipe) (3.7.0)\n",
      "Requirement already satisfied: numpy in d:\\programy_down\\anaconda\\lib\\site-packages (from mediapipe) (1.23.5)\n",
      "Requirement already satisfied: flatbuffers>=2.0 in d:\\programy_down\\anaconda\\lib\\site-packages (from mediapipe) (23.5.26)\n",
      "Requirement already satisfied: attrs>=19.1.0 in d:\\programy_down\\anaconda\\lib\\site-packages (from mediapipe) (22.1.0)\n",
      "Requirement already satisfied: absl-py in d:\\programy_down\\anaconda\\lib\\site-packages (from mediapipe) (2.0.0)\n",
      "Requirement already satisfied: sounddevice>=0.4.4 in d:\\programy_down\\anaconda\\lib\\site-packages (from mediapipe) (0.4.6)\n",
      "Requirement already satisfied: opencv-contrib-python in d:\\programy_down\\anaconda\\lib\\site-packages (from mediapipe) (4.8.1.78)\n",
      "Requirement already satisfied: CFFI>=1.0 in d:\\programy_down\\anaconda\\lib\\site-packages (from sounddevice>=0.4.4->mediapipe) (1.15.1)\n",
      "Requirement already satisfied: python-dateutil>=2.7 in d:\\programy_down\\anaconda\\lib\\site-packages (from matplotlib->mediapipe) (2.8.2)\n",
      "Requirement already satisfied: packaging>=20.0 in d:\\programy_down\\anaconda\\lib\\site-packages (from matplotlib->mediapipe) (22.0)\n",
      "Requirement already satisfied: contourpy>=1.0.1 in d:\\programy_down\\anaconda\\lib\\site-packages (from matplotlib->mediapipe) (1.0.5)\n",
      "Requirement already satisfied: pyparsing>=2.3.1 in d:\\programy_down\\anaconda\\lib\\site-packages (from matplotlib->mediapipe) (3.0.9)\n",
      "Requirement already satisfied: kiwisolver>=1.0.1 in d:\\programy_down\\anaconda\\lib\\site-packages (from matplotlib->mediapipe) (1.4.4)\n",
      "Requirement already satisfied: pillow>=6.2.0 in d:\\programy_down\\anaconda\\lib\\site-packages (from matplotlib->mediapipe) (9.4.0)\n",
      "Requirement already satisfied: fonttools>=4.22.0 in d:\\programy_down\\anaconda\\lib\\site-packages (from matplotlib->mediapipe) (4.25.0)\n",
      "Requirement already satisfied: cycler>=0.10 in d:\\programy_down\\anaconda\\lib\\site-packages (from matplotlib->mediapipe) (0.11.0)\n",
      "Requirement already satisfied: pycparser in d:\\programy_down\\anaconda\\lib\\site-packages (from CFFI>=1.0->sounddevice>=0.4.4->mediapipe) (2.21)\n",
      "Requirement already satisfied: six>=1.5 in d:\\programy_down\\anaconda\\lib\\site-packages (from python-dateutil>=2.7->matplotlib->mediapipe) (1.16.0)\n"
     ]
    },
    {
     "name": "stderr",
     "output_type": "stream",
     "text": [
      "WARNING: Ignoring invalid distribution -pencv-python-headless (d:\\programy_down\\anaconda\\lib\\site-packages)\n",
      "WARNING: Ignoring invalid distribution -pencv-python-headless (d:\\programy_down\\anaconda\\lib\\site-packages)\n",
      "WARNING: Ignoring invalid distribution -pencv-python-headless (d:\\programy_down\\anaconda\\lib\\site-packages)\n",
      "WARNING: Ignoring invalid distribution -pencv-python-headless (d:\\programy_down\\anaconda\\lib\\site-packages)\n",
      "WARNING: Ignoring invalid distribution -pencv-python-headless (d:\\programy_down\\anaconda\\lib\\site-packages)\n",
      "WARNING: Ignoring invalid distribution -pencv-python-headless (d:\\programy_down\\anaconda\\lib\\site-packages)\n"
     ]
    },
    {
     "name": "stdout",
     "output_type": "stream",
     "text": [
      "Requirement already satisfied: tensorflow in d:\\programy_down\\anaconda\\lib\\site-packages (2.8.0)\n",
      "Requirement already satisfied: tensorflow-gpu in d:\\programy_down\\anaconda\\lib\\site-packages (2.8.0)\n",
      "Requirement already satisfied: opencv-python in c:\\users\\user\\appdata\\roaming\\python\\python310\\site-packages (4.7.0.68)\n",
      "Requirement already satisfied: mediapipe in d:\\programy_down\\anaconda\\lib\\site-packages (0.10.8)\n",
      "Requirement already satisfied: sklearn in d:\\programy_down\\anaconda\\lib\\site-packages (0.0.post11)\n",
      "Requirement already satisfied: matplotlib in d:\\programy_down\\anaconda\\lib\\site-packages (3.7.0)\n",
      "Requirement already satisfied: numpy>=1.20 in d:\\programy_down\\anaconda\\lib\\site-packages (from tensorflow) (1.23.5)\n",
      "Requirement already satisfied: termcolor>=1.1.0 in d:\\programy_down\\anaconda\\lib\\site-packages (from tensorflow) (2.3.0)\n",
      "Requirement already satisfied: protobuf>=3.9.2 in d:\\programy_down\\anaconda\\lib\\site-packages (from tensorflow) (3.20.3)\n",
      "Requirement already satisfied: keras<2.9,>=2.8.0rc0 in d:\\programy_down\\anaconda\\lib\\site-packages (from tensorflow) (2.8.0)\n",
      "Requirement already satisfied: absl-py>=0.4.0 in d:\\programy_down\\anaconda\\lib\\site-packages (from tensorflow) (2.0.0)\n",
      "Requirement already satisfied: tensorboard<2.9,>=2.8 in d:\\programy_down\\anaconda\\lib\\site-packages (from tensorflow) (2.8.0)\n",
      "Requirement already satisfied: astunparse>=1.6.0 in d:\\programy_down\\anaconda\\lib\\site-packages (from tensorflow) (1.6.3)\n",
      "Requirement already satisfied: setuptools in d:\\programy_down\\anaconda\\lib\\site-packages (from tensorflow) (65.6.3)\n",
      "Requirement already satisfied: gast>=0.2.1 in d:\\programy_down\\anaconda\\lib\\site-packages (from tensorflow) (0.5.4)\n",
      "Requirement already satisfied: six>=1.12.0 in d:\\programy_down\\anaconda\\lib\\site-packages (from tensorflow) (1.16.0)\n",
      "Requirement already satisfied: grpcio<2.0,>=1.24.3 in d:\\programy_down\\anaconda\\lib\\site-packages (from tensorflow) (1.59.2)\n",
      "Requirement already satisfied: flatbuffers>=1.12 in d:\\programy_down\\anaconda\\lib\\site-packages (from tensorflow) (23.5.26)\n",
      "Requirement already satisfied: opt-einsum>=2.3.2 in d:\\programy_down\\anaconda\\lib\\site-packages (from tensorflow) (3.3.0)\n",
      "Requirement already satisfied: wrapt>=1.11.0 in d:\\programy_down\\anaconda\\lib\\site-packages (from tensorflow) (1.14.1)\n",
      "Requirement already satisfied: google-pasta>=0.1.1 in d:\\programy_down\\anaconda\\lib\\site-packages (from tensorflow) (0.2.0)\n",
      "Requirement already satisfied: tf-estimator-nightly==2.8.0.dev2021122109 in d:\\programy_down\\anaconda\\lib\\site-packages (from tensorflow) (2.8.0.dev2021122109)\n",
      "Requirement already satisfied: keras-preprocessing>=1.1.1 in d:\\programy_down\\anaconda\\lib\\site-packages (from tensorflow) (1.1.2)\n",
      "Requirement already satisfied: typing-extensions>=3.6.6 in d:\\programy_down\\anaconda\\lib\\site-packages (from tensorflow) (4.4.0)\n",
      "Requirement already satisfied: h5py>=2.9.0 in d:\\programy_down\\anaconda\\lib\\site-packages (from tensorflow) (3.7.0)\n",
      "Requirement already satisfied: tensorflow-io-gcs-filesystem>=0.23.1 in d:\\programy_down\\anaconda\\lib\\site-packages (from tensorflow) (0.31.0)\n",
      "Requirement already satisfied: libclang>=9.0.1 in d:\\programy_down\\anaconda\\lib\\site-packages (from tensorflow) (16.0.6)\n",
      "Requirement already satisfied: sounddevice>=0.4.4 in d:\\programy_down\\anaconda\\lib\\site-packages (from mediapipe) (0.4.6)\n",
      "Requirement already satisfied: opencv-contrib-python in d:\\programy_down\\anaconda\\lib\\site-packages (from mediapipe) (4.8.1.78)\n",
      "Requirement already satisfied: attrs>=19.1.0 in d:\\programy_down\\anaconda\\lib\\site-packages (from mediapipe) (22.1.0)\n",
      "Requirement already satisfied: pyparsing>=2.3.1 in d:\\programy_down\\anaconda\\lib\\site-packages (from matplotlib) (3.0.9)\n",
      "Requirement already satisfied: packaging>=20.0 in d:\\programy_down\\anaconda\\lib\\site-packages (from matplotlib) (22.0)\n",
      "Requirement already satisfied: python-dateutil>=2.7 in d:\\programy_down\\anaconda\\lib\\site-packages (from matplotlib) (2.8.2)\n",
      "Requirement already satisfied: contourpy>=1.0.1 in d:\\programy_down\\anaconda\\lib\\site-packages (from matplotlib) (1.0.5)\n",
      "Requirement already satisfied: kiwisolver>=1.0.1 in d:\\programy_down\\anaconda\\lib\\site-packages (from matplotlib) (1.4.4)\n",
      "Requirement already satisfied: fonttools>=4.22.0 in d:\\programy_down\\anaconda\\lib\\site-packages (from matplotlib) (4.25.0)\n",
      "Requirement already satisfied: cycler>=0.10 in d:\\programy_down\\anaconda\\lib\\site-packages (from matplotlib) (0.11.0)\n",
      "Requirement already satisfied: pillow>=6.2.0 in d:\\programy_down\\anaconda\\lib\\site-packages (from matplotlib) (9.4.0)\n",
      "Requirement already satisfied: wheel<1.0,>=0.23.0 in d:\\programy_down\\anaconda\\lib\\site-packages (from astunparse>=1.6.0->tensorflow) (0.38.4)\n",
      "Requirement already satisfied: CFFI>=1.0 in d:\\programy_down\\anaconda\\lib\\site-packages (from sounddevice>=0.4.4->mediapipe) (1.15.1)\n",
      "Requirement already satisfied: markdown>=2.6.8 in d:\\programy_down\\anaconda\\lib\\site-packages (from tensorboard<2.9,>=2.8->tensorflow) (3.4.1)\n",
      "Requirement already satisfied: werkzeug>=0.11.15 in d:\\programy_down\\anaconda\\lib\\site-packages (from tensorboard<2.9,>=2.8->tensorflow) (2.2.2)\n",
      "Requirement already satisfied: google-auth<3,>=1.6.3 in d:\\programy_down\\anaconda\\lib\\site-packages (from tensorboard<2.9,>=2.8->tensorflow) (2.23.4)\n",
      "Requirement already satisfied: requests<3,>=2.21.0 in d:\\programy_down\\anaconda\\lib\\site-packages (from tensorboard<2.9,>=2.8->tensorflow) (2.28.1)\n",
      "Requirement already satisfied: tensorboard-data-server<0.7.0,>=0.6.0 in d:\\programy_down\\anaconda\\lib\\site-packages (from tensorboard<2.9,>=2.8->tensorflow) (0.6.1)\n",
      "Requirement already satisfied: tensorboard-plugin-wit>=1.6.0 in d:\\programy_down\\anaconda\\lib\\site-packages (from tensorboard<2.9,>=2.8->tensorflow) (1.8.1)\n",
      "Requirement already satisfied: google-auth-oauthlib<0.5,>=0.4.1 in d:\\programy_down\\anaconda\\lib\\site-packages (from tensorboard<2.9,>=2.8->tensorflow) (0.4.6)\n",
      "Requirement already satisfied: pycparser in d:\\programy_down\\anaconda\\lib\\site-packages (from CFFI>=1.0->sounddevice>=0.4.4->mediapipe) (2.21)\n",
      "Requirement already satisfied: cachetools<6.0,>=2.0.0 in d:\\programy_down\\anaconda\\lib\\site-packages (from google-auth<3,>=1.6.3->tensorboard<2.9,>=2.8->tensorflow) (5.3.2)\n",
      "Requirement already satisfied: rsa<5,>=3.1.4 in d:\\programy_down\\anaconda\\lib\\site-packages (from google-auth<3,>=1.6.3->tensorboard<2.9,>=2.8->tensorflow) (4.9)\n",
      "Requirement already satisfied: pyasn1-modules>=0.2.1 in d:\\programy_down\\anaconda\\lib\\site-packages (from google-auth<3,>=1.6.3->tensorboard<2.9,>=2.8->tensorflow) (0.2.8)\n",
      "Requirement already satisfied: requests-oauthlib>=0.7.0 in d:\\programy_down\\anaconda\\lib\\site-packages (from google-auth-oauthlib<0.5,>=0.4.1->tensorboard<2.9,>=2.8->tensorflow) (1.3.1)\n",
      "Requirement already satisfied: certifi>=2017.4.17 in d:\\programy_down\\anaconda\\lib\\site-packages (from requests<3,>=2.21.0->tensorboard<2.9,>=2.8->tensorflow) (2023.5.7)\n",
      "Requirement already satisfied: idna<4,>=2.5 in d:\\programy_down\\anaconda\\lib\\site-packages (from requests<3,>=2.21.0->tensorboard<2.9,>=2.8->tensorflow) (3.4)\n",
      "Requirement already satisfied: urllib3<1.27,>=1.21.1 in d:\\programy_down\\anaconda\\lib\\site-packages (from requests<3,>=2.21.0->tensorboard<2.9,>=2.8->tensorflow) (1.26.14)\n",
      "Requirement already satisfied: charset-normalizer<3,>=2 in d:\\programy_down\\anaconda\\lib\\site-packages (from requests<3,>=2.21.0->tensorboard<2.9,>=2.8->tensorflow) (2.0.4)\n",
      "Requirement already satisfied: MarkupSafe>=2.1.1 in d:\\programy_down\\anaconda\\lib\\site-packages (from werkzeug>=0.11.15->tensorboard<2.9,>=2.8->tensorflow) (2.1.1)\n",
      "Requirement already satisfied: pyasn1<0.5.0,>=0.4.6 in d:\\programy_down\\anaconda\\lib\\site-packages (from pyasn1-modules>=0.2.1->google-auth<3,>=1.6.3->tensorboard<2.9,>=2.8->tensorflow) (0.4.8)\n",
      "Requirement already satisfied: oauthlib>=3.0.0 in d:\\programy_down\\anaconda\\lib\\site-packages (from requests-oauthlib>=0.7.0->google-auth-oauthlib<0.5,>=0.4.1->tensorboard<2.9,>=2.8->tensorflow) (3.2.2)\n"
     ]
    },
    {
     "name": "stderr",
     "output_type": "stream",
     "text": [
      "WARNING: Ignoring invalid distribution -pencv-python-headless (d:\\programy_down\\anaconda\\lib\\site-packages)\n",
      "WARNING: Ignoring invalid distribution -pencv-python-headless (d:\\programy_down\\anaconda\\lib\\site-packages)\n",
      "WARNING: Ignoring invalid distribution -pencv-python-headless (d:\\programy_down\\anaconda\\lib\\site-packages)\n",
      "WARNING: Ignoring invalid distribution -pencv-python-headless (d:\\programy_down\\anaconda\\lib\\site-packages)\n",
      "WARNING: Ignoring invalid distribution -pencv-python-headless (d:\\programy_down\\anaconda\\lib\\site-packages)\n",
      "WARNING: Ignoring invalid distribution -pencv-python-headless (d:\\programy_down\\anaconda\\lib\\site-packages)\n"
     ]
    }
   ],
   "source": [
    "!pip install moviepy\n",
    "!pip install mediapipe\n",
    "!pip install tensorflow tensorflow-gpu opencv-python mediapipe sklearn matplotlib"
   ]
  },
  {
   "cell_type": "markdown",
   "metadata": {},
   "source": [
    "<h3>Funkcje pomocnicze</h3>"
   ]
  },
  {
   "cell_type": "markdown",
   "metadata": {},
   "source": [
    "Importowanie i konfiguracja"
   ]
  },
  {
   "cell_type": "code",
   "execution_count": 3,
   "metadata": {},
   "outputs": [],
   "source": [
    "import numpy as np\n",
    "import math\n",
    "import mediapipe as mp\n",
    "\n",
    "mp_drawing = mp.solutions.drawing_utils\n",
    "mp_holistic = mp.solutions.holistic"
   ]
  },
  {
   "cell_type": "markdown",
   "metadata": {},
   "source": [
    "Filtrowanie punktów kluczowych pozy ciała"
   ]
  },
  {
   "cell_type": "code",
   "execution_count": 4,
   "metadata": {},
   "outputs": [],
   "source": [
    "def filter_pose_landmarks(pose):\n",
    "    indexes_to_remove = [23,24,25,26,27,28,29,30,31,32]\n",
    "    filtered = np.delete(pose,indexes_to_remove)\n",
    "    return filtered"
   ]
  },
  {
   "cell_type": "markdown",
   "metadata": {},
   "source": [
    "Ekstrakcja znormalizowanych punktów kluczowych"
   ]
  },
  {
   "cell_type": "code",
   "execution_count": 5,
   "metadata": {},
   "outputs": [],
   "source": [
    "def extract_keypoints_with_normalization(results):\n",
    "    smallestX = 1\n",
    "    biggestX = 0\n",
    "    smallestY = 1\n",
    "    biggestY = 0\n",
    "    smallestZ = 1\n",
    "    biggestZ = 0\n",
    "\n",
    "    pose = np.array([[res.x, res.y, res.z] for res in filter_pose_landmarks(results.pose_landmarks.landmark)] if results.pose_landmarks else [[0,0,0] for i in range(23)]) \n",
    "    lh = np.array([[res.x, res.y, res.z] for res in results.left_hand_landmarks.landmark] if results.left_hand_landmarks else [[0,0,0] for i in range(21)]) \n",
    "    rh = np.array([[res.x, res.y, res.z] for res in results.right_hand_landmarks.landmark] if results.right_hand_landmarks else [[0,0,0] for i in range(21)]) \n",
    "    concatenated = np.concatenate([pose, lh, rh])\n",
    "    for landmark in concatenated:\n",
    "        newX = landmark[0]\n",
    "        newY = landmark[1]\n",
    "        newZ = landmark[2]\n",
    "        if(smallestX>newX):\n",
    "            smallestX = newX \n",
    "        if(biggestX<newX):\n",
    "            biggestX = newX \n",
    "        if(smallestY>newY):\n",
    "            smallestY = newY \n",
    "        if(biggestY<newY):\n",
    "            biggestY = newY \n",
    "        if(smallestZ>newZ):\n",
    "            smallestZ = newZ \n",
    "        if(biggestZ<newZ):\n",
    "            biggestZ = newZ \n",
    "        \n",
    "    normalizedLandmarks = []\n",
    "    for landmark in concatenated:\n",
    "        x_norm = (landmark[0]-smallestX)/(biggestX-smallestX)\n",
    "        y_norm = (landmark[1]-smallestY)/(biggestY-smallestY)\n",
    "        z_norm = (landmark[2]-smallestZ)/(biggestZ-smallestZ)\n",
    "        if math.isnan(x_norm):\n",
    "            x_norm = 0.0\n",
    "        if math.isnan(y_norm):\n",
    "            y_norm = 0.0\n",
    "        if math.isnan(z_norm):\n",
    "            z_norm = 0.0\n",
    "        normalizedLandmarks.append([x_norm,y_norm,z_norm])\n",
    "    return np.array(normalizedLandmarks).flatten()"
   ]
  },
  {
   "cell_type": "markdown",
   "metadata": {},
   "source": [
    "Detekcja punktów kluczowych"
   ]
  },
  {
   "cell_type": "code",
   "execution_count": 6,
   "metadata": {},
   "outputs": [],
   "source": [
    "def mediapipe_video_detection(image,model):\n",
    "    results = model.process(image)\n",
    "    return image,results"
   ]
  },
  {
   "cell_type": "markdown",
   "metadata": {},
   "source": [
    "Rysowanie rozpoznanych punktów kluczowych"
   ]
  },
  {
   "cell_type": "code",
   "execution_count": 7,
   "metadata": {},
   "outputs": [],
   "source": [
    "def draw_styled_landmarks(image, results):\n",
    "    mp_drawing.draw_landmarks(image, results.face_landmarks, mp_holistic.FACEMESH_TESSELATION, \n",
    "                             mp_drawing.DrawingSpec(color=(70,70,200), thickness=1, circle_radius=1), \n",
    "                             mp_drawing.DrawingSpec(color=(70,70,70), thickness=1, circle_radius=1)\n",
    "                             ) \n",
    "    mp_drawing.draw_landmarks(image, results.pose_landmarks, mp_holistic.POSE_CONNECTIONS,\n",
    "                             mp_drawing.DrawingSpec(color=(170,170,170), thickness=2, circle_radius=4), \n",
    "                             mp_drawing.DrawingSpec(color=(70,70,70), thickness=2, circle_radius=2)\n",
    "                             ) \n",
    "    mp_drawing.draw_landmarks(image, results.left_hand_landmarks, mp_holistic.HAND_CONNECTIONS, \n",
    "                             mp_drawing.DrawingSpec(color=(70,200,70), thickness=2, circle_radius=4), \n",
    "                             mp_drawing.DrawingSpec(color=(70,70,70), thickness=2, circle_radius=2)\n",
    "                             ) \n",
    "    mp_drawing.draw_landmarks(image, results.right_hand_landmarks, mp_holistic.HAND_CONNECTIONS, \n",
    "                             mp_drawing.DrawingSpec(color=(200,70,70), thickness=2, circle_radius=4), \n",
    "                             mp_drawing.DrawingSpec(color=(70,70,70), thickness=2, circle_radius=2)\n",
    "                             ) "
   ]
  },
  {
   "cell_type": "markdown",
   "metadata": {},
   "source": [
    "<h1>Zbieranie nagrań</h1>"
   ]
  },
  {
   "cell_type": "markdown",
   "metadata": {},
   "source": [
    "Importowanie"
   ]
  },
  {
   "cell_type": "code",
   "execution_count": 8,
   "metadata": {},
   "outputs": [],
   "source": [
    "from moviepy.editor import *\n",
    "import numpy as np\n",
    "import cv2\n",
    "import os"
   ]
  },
  {
   "cell_type": "markdown",
   "metadata": {},
   "source": [
    "Stałe i zmienne"
   ]
  },
  {
   "cell_type": "code",
   "execution_count": 16,
   "metadata": {},
   "outputs": [],
   "source": [
    "\n",
    "DATA_PATH = os.path.join('videos/PJM') \n",
    "ACTIONS_21 = ['dziękuję','proszę','przepraszam','od','jest','który','ja','gdzie','ty','imię','nazwisko','jeśli','ile','duży','mało','dobrze','źle','wiem','dom','mieszkać','kocham']\n",
    "TRICKY=['do','mam']\n",
    "ALL_ACTIONS = ACTIONS_21\n",
    "\n",
    "no_sequences = 30\n",
    "sequence_length = 45"
   ]
  },
  {
   "cell_type": "markdown",
   "metadata": {},
   "source": [
    "Tworzenie folderów dla znaków dynamicznych"
   ]
  },
  {
   "cell_type": "code",
   "execution_count": 18,
   "metadata": {},
   "outputs": [],
   "source": [
    "for action in ALL_ACTIONS: \n",
    "    try: \n",
    "        os.makedirs(os.path.join(DATA_PATH,'fps30', action))\n",
    "        os.makedirs(os.path.join(DATA_PATH,'fps15', action))\n",
    "    except:\n",
    "        pass"
   ]
  },
  {
   "cell_type": "markdown",
   "metadata": {},
   "source": [
    "Zbieranie sekwencji"
   ]
  },
  {
   "cell_type": "code",
   "execution_count": 21,
   "metadata": {},
   "outputs": [],
   "source": [
    "actions = np.array(['jest'])\n",
    "\n",
    "cap = cv2.VideoCapture(0)\n",
    "cap.set(cv2.CAP_PROP_FPS, 30)\n",
    "cv2.waitKey(3000)\n",
    "for action in actions:\n",
    "    for sequence in range(1,no_sequences+1):\n",
    "        recorded_frames = []\n",
    "        for frame_num in range(sequence_length+1):\n",
    "            ret, image = cap.read()\n",
    "            \n",
    "            if frame_num == 0: \n",
    "                cv2.rectangle(image, (0,440), (640, 480), (20, 20, 20), -1)\n",
    "                cv2.putText(image, 'COLLECT IN: 3', (20,470),cv2.FONT_HERSHEY_TRIPLEX, 1, (35, 184, 75), 1, cv2.LINE_AA)\n",
    "                cv2.putText(image, 'Sentence: {} , Sample: {}'.format(action, sequence), (330,465), cv2.FONT_HERSHEY_TRIPLEX, 0.5, (250, 250, 250), 1, cv2.LINE_AA)\n",
    "                cv2.imshow('OpenCV Feed', image)\n",
    "                cv2.waitKey(1000)\n",
    "                cv2.rectangle(image, (0,440), (640, 480), (20, 20, 20), -1)\n",
    "                cv2.putText(image, 'COLLECT IN: 2', (20,470),cv2.FONT_HERSHEY_TRIPLEX, 1, (35, 184, 75), 1, cv2.LINE_AA)\n",
    "                cv2.putText(image, 'Sentence: {} , Sample: {}'.format(action, sequence), (330,465), cv2.FONT_HERSHEY_TRIPLEX, 0.5, (250, 250, 250), 1, cv2.LINE_AA)\n",
    "                cv2.imshow('OpenCV Feed', image)\n",
    "                cv2.waitKey(1000)\n",
    "                cv2.rectangle(image, (0,440), (640, 480), (20, 20, 20), -1)\n",
    "                cv2.putText(image, 'COLLECT IN: 1', (20,470),cv2.FONT_HERSHEY_TRIPLEX, 1, (35, 184, 75), 1, cv2.LINE_AA)\n",
    "                cv2.putText(image, 'Sentence: {} , Sample: {}'.format(action, sequence), (330,465), cv2.FONT_HERSHEY_TRIPLEX, 0.5, (250, 250, 250), 1, cv2.LINE_AA)\n",
    "                cv2.imshow('OpenCV Feed', image)\n",
    "                cv2.waitKey(1000)\n",
    "                cv2.rectangle(image, (0,440), (640, 480), (20, 20, 20), -1)\n",
    "                cv2.putText(image, 'GET READY', (20,470),cv2.FONT_HERSHEY_TRIPLEX, 1, (61, 223, 235), 1, cv2.LINE_AA)\n",
    "                cv2.putText(image, 'Sentence: {} , Sample: {}'.format(action, sequence), (330,465), cv2.FONT_HERSHEY_TRIPLEX, 0.5, (250, 250, 250), 1, cv2.LINE_AA)\n",
    "                cv2.imshow('OpenCV Feed', image)\n",
    "                cv2.waitKey(500)\n",
    "            else: \n",
    "                cv2.rectangle(image, (0,440), (640, 480), (20, 20, 20), -1)\n",
    "                cv2.putText(image, 'COLLECTING NOW', (20,470),cv2.FONT_HERSHEY_TRIPLEX, 1, (25, 29, 250), 1, cv2.LINE_AA)\n",
    "                cv2.putText(image, 'Sentence: {} , Sample: {}'.format(action, sequence), (330,465), cv2.FONT_HERSHEY_TRIPLEX, 0.5, (250, 250, 250), 1, cv2.LINE_AA)\n",
    "                cv2.imshow('OpenCV Feed', image)\n",
    "                image = cv2.cvtColor(image, cv2.COLOR_BGR2RGB)\n",
    "                recorded_frames.append(image)  \n",
    "        if cv2.waitKey(10) & 0xFF == ord('q'):\n",
    "            break\n",
    "        save_path_30 = os.path.join(DATA_PATH,'fps30', action,str(sequence)+'.mp4')\n",
    "        save_path_15 = os.path.join(DATA_PATH,'fps15', action,str(sequence)+'.mp4')\n",
    "        clip30 = ImageSequenceClip(recorded_frames, fps=30)\n",
    "        clip30.write_videofile(save_path_30, fps=30,codec=\"libx264\")\n",
    "        clip15 = ImageSequenceClip(recorded_frames, fps=30)\n",
    "        clip15.write_videofile(save_path_15, fps=15,codec=\"libx264\")\n",
    "        \n",
    "                    \n",
    "cap.release()\n",
    "cv2.destroyAllWindows()"
   ]
  },
  {
   "cell_type": "markdown",
   "metadata": {},
   "source": [
    "<h1>Konwersja video na mediapipe keypoints<h1>"
   ]
  },
  {
   "cell_type": "markdown",
   "metadata": {},
   "source": [
    "Stałe i zmienne"
   ]
  },
  {
   "cell_type": "code",
   "execution_count": 22,
   "metadata": {},
   "outputs": [],
   "source": [
    "KEYPOINTS_DATA_PATH = \"dynamicKeypoints/PJM\"\n",
    "FRAMESNO='fps15'"
   ]
  },
  {
   "cell_type": "markdown",
   "metadata": {},
   "source": [
    "Tworzenie folderów dla punkty kluczowe"
   ]
  },
  {
   "cell_type": "code",
   "execution_count": 23,
   "metadata": {},
   "outputs": [],
   "source": [
    "for action in ALL_ACTIONS: \n",
    "    for sequence in range(1,no_sequences+1):\n",
    "        try: \n",
    "            os.makedirs(os.path.join(KEYPOINTS_DATA_PATH,'fps15', action, str(sequence)))\n",
    "            os.makedirs(os.path.join(KEYPOINTS_DATA_PATH,'fps30', action, str(sequence)))\n",
    "        except:\n",
    "            pass"
   ]
  },
  {
   "cell_type": "markdown",
   "metadata": {},
   "source": [
    "Konwersja nagrań na punkty kluczowe"
   ]
  },
  {
   "cell_type": "code",
   "execution_count": 24,
   "metadata": {},
   "outputs": [],
   "source": [
    "\n",
    "from moviepy.editor import *\n",
    "\n",
    "with mp_holistic.Holistic(min_detection_confidence=0.5, min_tracking_confidence=0.5) as holistic:\n",
    "    for action in ALL_ACTIONS:\n",
    "        for sequence in range(1,no_sequences+1):\n",
    "            clip = VideoFileClip(os.path.join(DATA_PATH,FRAMESNO,action,str(sequence)+\".mp4\"))\n",
    "            frames = clip.iter_frames()\n",
    "            clip_fps = clip.fps\n",
    "            counter = 0\n",
    "            for frame in frames:\n",
    "                image, results = mediapipe_video_detection(frame, holistic)\n",
    "                keypoints = extract_keypoints_with_normalization(results)\n",
    "                npy_path = os.path.join(KEYPOINTS_DATA_PATH,FRAMESNO,action,str(sequence),str(counter))\n",
    "                np.save(npy_path, keypoints)\n",
    "                counter += 1\n",
    "     "
   ]
  },
  {
   "cell_type": "markdown",
   "metadata": {},
   "source": [
    "<h1>Szkolenie modelu</h1>"
   ]
  },
  {
   "cell_type": "markdown",
   "metadata": {},
   "source": [
    "Importowanie"
   ]
  },
  {
   "cell_type": "code",
   "execution_count": 25,
   "metadata": {},
   "outputs": [],
   "source": [
    "from sklearn.model_selection import train_test_split\n",
    "import tensorflow\n",
    "from tensorflow.keras.utils import to_categorical\n",
    "from tensorflow.keras.models import Sequential\n",
    "from tensorflow.keras.layers import LSTM, Dense, GRU, SimpleRNN\n",
    "from tensorflow.keras.callbacks import TensorBoard"
   ]
  },
  {
   "cell_type": "markdown",
   "metadata": {},
   "source": [
    "Stałe i zmienne"
   ]
  },
  {
   "cell_type": "code",
   "execution_count": 64,
   "metadata": {},
   "outputs": [
    {
     "name": "stdout",
     "output_type": "stream",
     "text": [
      "{'dziękuję': 0, 'proszę': 1, 'przepraszam': 2, 'od': 3, 'jest': 4, 'który': 5, 'ja': 6, 'gdzie': 7, 'ty': 8, 'imię': 9, 'nazwisko': 10, 'jeśli': 11, 'ile': 12, 'duży': 13, 'mało': 14, 'dobrze': 15, 'źle': 16, 'wiem': 17, 'dom': 18, 'mieszkać': 19, 'kocham': 20}\n"
     ]
    }
   ],
   "source": [
    "SEQUENCELENGTH_15FPS = 23\n",
    "\n",
    "log_dir = os.path.join('Logs')\n",
    "tb_callback = TensorBoard(log_dir=log_dir)\n",
    "\n",
    "label_map = {label:num for num, label in enumerate(ALL_ACTIONS)}\n",
    "print(label_map)"
   ]
  },
  {
   "cell_type": "markdown",
   "metadata": {},
   "source": [
    "Wczytanie danych z tablic"
   ]
  },
  {
   "cell_type": "code",
   "execution_count": 28,
   "metadata": {},
   "outputs": [],
   "source": [
    "sequences, labels = [], []\n",
    "for action in ALL_ACTIONS:\n",
    "    for sequence in np.array(os.listdir(os.path.join(KEYPOINTS_DATA_PATH,FRAMESNO, action))).astype(int):\n",
    "        window = []\n",
    "        for frame_num in range(SEQUENCELENGTH_15FPS):\n",
    "            res = np.load(os.path.join(KEYPOINTS_DATA_PATH,FRAMESNO, action, str(sequence), \"{}.npy\".format(frame_num)))\n",
    "            window.append(res)\n",
    "        sequences.append(window)\n",
    "        labels.append(label_map[action])"
   ]
  },
  {
   "cell_type": "markdown",
   "metadata": {},
   "source": [
    "Przygotowanie i podział na zbiory "
   ]
  },
  {
   "cell_type": "code",
   "execution_count": 131,
   "metadata": {},
   "outputs": [
    {
     "name": "stdout",
     "output_type": "stream",
     "text": [
      "x shape: \n",
      "(630, 23, 195)\n",
      "y shape: \n",
      "(630, 21)\n",
      "x_test shape: \n",
      "(63, 23, 195)\n",
      "y_test shape: \n",
      "(63, 21)\n"
     ]
    }
   ],
   "source": [
    "X = np.array(sequences)\n",
    "y = to_categorical(labels).astype(int)\n",
    "X_train, X_test, y_train, y_test = train_test_split(X, y,test_size=0.1)\n",
    "\n",
    "print(\"x shape: \")\n",
    "print(X.shape)\n",
    "print(\"y shape: \")\n",
    "print(y.shape)\n",
    "print(\"x_test shape: \")\n",
    "print(X_test.shape)\n",
    "print(\"y_test shape: \")\n",
    "print(y_test.shape)"
   ]
  },
  {
   "cell_type": "markdown",
   "metadata": {},
   "source": [
    "<h3>Inicjalizacja i szkolenie modelu</h3>"
   ]
  },
  {
   "cell_type": "markdown",
   "metadata": {},
   "source": [
    "Szkolenie LSTM"
   ]
  },
  {
   "cell_type": "code",
   "execution_count": null,
   "metadata": {},
   "outputs": [],
   "source": [
    "model2 = Sequential()\n",
    "model2.add(LSTM(64, return_sequences=True, activation='relu', input_shape=(23,195)))\n",
    "model2.add(LSTM(64, return_sequences=False, activation='relu'))\n",
    "model2.add(Dense(64, activation='relu'))\n",
    "model2.add(Dense(64, activation='relu'))\n",
    "model2.add(Dense(np.array(ALL_ACTIONS).shape[0], activation='softmax'))\n",
    "model2.compile(optimizer='Adam', loss='categorical_crossentropy', metrics=['categorical_accuracy'])\n",
    "model2.fit(X_train, y_train, epochs=300, callbacks=[tb_callback],validation_split=0.1)"
   ]
  },
  {
   "cell_type": "markdown",
   "metadata": {},
   "source": [
    "Szkolenie RNN"
   ]
  },
  {
   "cell_type": "code",
   "execution_count": null,
   "metadata": {},
   "outputs": [],
   "source": [
    "model2 = Sequential()\n",
    "model2.add(SimpleRNN(64, return_sequences=True, activation='relu', input_shape=(23,195)))\n",
    "model2.add(SimpleRNN(64, return_sequences=False, activation='relu'))\n",
    "model2.add(Dense(64, activation='relu'))\n",
    "model2.add(Dense(64, activation='relu'))\n",
    "model2.add(Dense(np.array(ALL_ACTIONS).shape[0], activation='softmax'))\n",
    "model2.compile(optimizer='Adam', loss='categorical_crossentropy', metrics=['categorical_accuracy'])\n",
    "model2.fit(X_train, y_train, epochs=300, callbacks=[tb_callback],validation_split=0.1)"
   ]
  },
  {
   "cell_type": "markdown",
   "metadata": {},
   "source": [
    "Szkolenie GRU"
   ]
  },
  {
   "cell_type": "code",
   "execution_count": null,
   "metadata": {},
   "outputs": [],
   "source": [
    "model2 = Sequential()\n",
    "model2.add(GRU(128, return_sequences=True, activation='relu', input_shape=(23,195)))\n",
    "model2.add(GRU(128, return_sequences=False, activation='relu'))\n",
    "model2.add(Dense(64, activation='relu'))\n",
    "model2.add(Dense(64, activation='relu'))\n",
    "model2.add(Dense(np.array(ALL_ACTIONS).shape[0], activation='softmax'))\n",
    "model2.compile(optimizer='Adam', loss='categorical_crossentropy', metrics=['categorical_accuracy'])\n",
    "model2.fit(X_train, y_train, epochs=350, callbacks=[tb_callback],validation_split=0.1)"
   ]
  },
  {
   "cell_type": "markdown",
   "metadata": {},
   "source": [
    "Zapisanie modelu i prezentacja podsumowania"
   ]
  },
  {
   "cell_type": "code",
   "execution_count": 33,
   "metadata": {},
   "outputs": [
    {
     "name": "stdout",
     "output_type": "stream",
     "text": [
      "Model: \"sequential\"\n",
      "_________________________________________________________________\n",
      " Layer (type)                Output Shape              Param #   \n",
      "=================================================================\n",
      " lstm (LSTM)                 (None, 23, 64)            66560     \n",
      "                                                                 \n",
      " lstm_1 (LSTM)               (None, 64)                33024     \n",
      "                                                                 \n",
      " dense (Dense)               (None, 64)                4160      \n",
      "                                                                 \n",
      " dense_1 (Dense)             (None, 64)                4160      \n",
      "                                                                 \n",
      " dense_2 (Dense)             (None, 21)                1365      \n",
      "                                                                 \n",
      "=================================================================\n",
      "Total params: 109,269\n",
      "Trainable params: 109,269\n",
      "Non-trainable params: 0\n",
      "_________________________________________________________________\n"
     ]
    }
   ],
   "source": [
    "model2.save('models/PJM_21_full_dynamic_lstm_v5.h5')\n",
    "model2.summary()"
   ]
  },
  {
   "cell_type": "markdown",
   "metadata": {},
   "source": [
    "Wczytywanie modelu"
   ]
  },
  {
   "cell_type": "code",
   "execution_count": 34,
   "metadata": {},
   "outputs": [],
   "source": [
    "from keras.models import load_model"
   ]
  },
  {
   "cell_type": "code",
   "execution_count": 35,
   "metadata": {},
   "outputs": [],
   "source": [
    "model2 = load_model('models/PJM_21_full_dynamic_lstm_v5.h5')"
   ]
  },
  {
   "cell_type": "markdown",
   "metadata": {},
   "source": [
    "<h1> Dokładność i macierze błędów </h1>"
   ]
  },
  {
   "cell_type": "markdown",
   "metadata": {},
   "source": [
    "Importowanie z bibliotek"
   ]
  },
  {
   "cell_type": "code",
   "execution_count": 47,
   "metadata": {},
   "outputs": [],
   "source": [
    "import seaborn as sn\n",
    "import pandas as pd\n",
    "import matplotlib.pyplot as plt\n",
    "from sklearn.metrics import multilabel_confusion_matrix, accuracy_score, confusion_matrix"
   ]
  },
  {
   "cell_type": "markdown",
   "metadata": {},
   "source": [
    "Obliczanie wyników"
   ]
  },
  {
   "cell_type": "code",
   "execution_count": 137,
   "metadata": {},
   "outputs": [],
   "source": [
    "yhat = model2.predict(X_test)\n",
    "ytrue = np.argmax(y_test, axis=1).tolist()\n",
    "yhat = np.argmax(yhat, axis=1).tolist()\n",
    "mtrx = multilabel_confusion_matrix(ytrue, yhat)\n",
    "confusion_mtrx = confusion_matrix(ytrue,yhat)\n",
    "accuracy = accuracy_score(ytrue, yhat)"
   ]
  },
  {
   "cell_type": "markdown",
   "metadata": {},
   "source": [
    "Dokładność modelu matematycznego"
   ]
  },
  {
   "cell_type": "code",
   "execution_count": null,
   "metadata": {},
   "outputs": [
    {
     "name": "stdout",
     "output_type": "stream",
     "text": [
      "Model accuracy: \n",
      "0.8417721518987342\n"
     ]
    }
   ],
   "source": [
    "print(\"Model accuracy: \")\n",
    "print(accuracy)"
   ]
  },
  {
   "cell_type": "markdown",
   "metadata": {},
   "source": [
    "Macierz błędów dla wszystkich statycznych znaków"
   ]
  },
  {
   "cell_type": "code",
   "execution_count": null,
   "metadata": {},
   "outputs": [
    {
     "data": {
      "text/plain": [
       "<Axes: >"
      ]
     },
     "metadata": {},
     "output_type": "display_data"
    },
    {
     "data": {
      "image/png": "[encoded data removed]",
      "text/plain": [
       "<Figure size 1000x800 with 2 Axes>"
      ]
     },
     "metadata": {},
     "output_type": "display_data"
    }
   ],
   "source": [
    "array = confusion_mtrx\n",
    "df_cm = pd.DataFrame(array, index = [i for i in ALL_ACTIONS],\n",
    "                  columns = [i for i in ALL_ACTIONS])\n",
    "plt.figure(figsize = (10,8))\n",
    "sn.heatmap(df_cm, annot=True,cmap=plt.cm.Blues)"
   ]
  }
 ],
 "metadata": {
  "kernelspec": {
   "display_name": "base",
   "language": "python",
   "name": "python3"
  },
  "language_info": {
   "codemirror_mode": {
    "name": "ipython",
    "version": 3
   },
   "file_extension": ".py",
   "mimetype": "text/x-python",
   "name": "python",
   "nbconvert_exporter": "python",
   "pygments_lexer": "ipython3",
   "version": "3.10.9"
  }
 },
 "nbformat": 4,
 "nbformat_minor": 2
}
