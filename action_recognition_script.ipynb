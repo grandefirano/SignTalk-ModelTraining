{
 "cells": [
  {
   "cell_type": "markdown",
   "metadata": {},
   "source": [
    "<h1>Konfiguracja</h1>"
   ]
  },
  {
   "cell_type": "markdown",
   "metadata": {},
   "source": [
    "<h3>Instalacja bibliotek</h3>"
   ]
  },
  {
   "cell_type": "code",
   "execution_count": null,
   "metadata": {},
   "outputs": [],
   "source": [
    "!pip install moviepy\n",
    "!pip install mediapipe\n",
    "!pip install tensorflow tensorflow-gpu opencv-python mediapipe sklearn matplotlib"
   ]
  },
  {
   "cell_type": "code",
   "execution_count": null,
   "metadata": {},
   "outputs": [],
   "source": [
    "!pip uninstall numpy\n",
    "!pip install numpy"
   ]
  },
  {
   "cell_type": "markdown",
   "metadata": {},
   "source": [
    "<h3>Funkcje pomocnicze</h3>"
   ]
  },
  {
   "cell_type": "markdown",
   "metadata": {},
   "source": [
    "Importowanie i konfiguracja"
   ]
  },
  {
   "cell_type": "code",
   "execution_count": 2,
   "metadata": {},
   "outputs": [],
   "source": [
    "import numpy as np\n",
    "import math\n",
    "import mediapipe as mp\n",
    "\n",
    "mp_drawing = mp.solutions.drawing_utils\n",
    "mp_holistic = mp.solutions.holistic"
   ]
  },
  {
   "cell_type": "markdown",
   "metadata": {},
   "source": [
    "Filtrowanie punktów kluczowych pozy ciała"
   ]
  },
  {
   "cell_type": "code",
   "execution_count": 3,
   "metadata": {},
   "outputs": [],
   "source": [
    "def filter_pose_landmarks(pose):\n",
    "    indexes_to_remove = [23,24,25,26,27,28,29,30,31,32]\n",
    "    filtered = np.delete(pose,indexes_to_remove)\n",
    "    return filtered"
   ]
  },
  {
   "cell_type": "markdown",
   "metadata": {},
   "source": [
    "Ekstrakcja znormalizowanych punktów kluczowych"
   ]
  },
  {
   "cell_type": "code",
   "execution_count": 4,
   "metadata": {},
   "outputs": [],
   "source": [
    "def extract_keypoints_with_normalization(results):\n",
    "    smallestX = 1\n",
    "    biggestX = 0\n",
    "    smallestY = 1\n",
    "    biggestY = 0\n",
    "    smallestZ = 1\n",
    "    biggestZ = 0\n",
    "\n",
    "    pose = np.array([[res.x, res.y, res.z] for res in filter_pose_landmarks(results.pose_landmarks.landmark)] if results.pose_landmarks else [[0,0,0] for i in range(23)]) \n",
    "    lh = np.array([[res.x, res.y, res.z] for res in results.left_hand_landmarks.landmark] if results.left_hand_landmarks else [[0,0,0] for i in range(21)]) \n",
    "    rh = np.array([[res.x, res.y, res.z] for res in results.right_hand_landmarks.landmark] if results.right_hand_landmarks else [[0,0,0] for i in range(21)]) \n",
    "    concatenated = np.concatenate([pose, lh, rh])\n",
    "    for landmark in concatenated:\n",
    "        newX = landmark[0]\n",
    "        newY = landmark[1]\n",
    "        newZ = landmark[2]\n",
    "        if(smallestX>newX):\n",
    "            smallestX = newX \n",
    "        if(biggestX<newX):\n",
    "            biggestX = newX \n",
    "        if(smallestY>newY):\n",
    "            smallestY = newY \n",
    "        if(biggestY<newY):\n",
    "            biggestY = newY \n",
    "        if(smallestZ>newZ):\n",
    "            smallestZ = newZ \n",
    "        if(biggestZ<newZ):\n",
    "            biggestZ = newZ \n",
    "        \n",
    "    normalizedLandmarks = []\n",
    "    for landmark in concatenated:\n",
    "        x_norm = (landmark[0]-smallestX)/(biggestX-smallestX)\n",
    "        y_norm = (landmark[1]-smallestY)/(biggestY-smallestY)\n",
    "        z_norm = (landmark[2]-smallestZ)/(biggestZ-smallestZ)\n",
    "        if math.isnan(x_norm):\n",
    "            x_norm = 0.0\n",
    "        if math.isnan(y_norm):\n",
    "            y_norm = 0.0\n",
    "        if math.isnan(z_norm):\n",
    "            z_norm = 0.0\n",
    "        normalizedLandmarks.append([x_norm,y_norm,z_norm])\n",
    "    return np.array(normalizedLandmarks).flatten()"
   ]
  },
  {
   "cell_type": "markdown",
   "metadata": {},
   "source": [
    "Detekcja punktów kluczowych"
   ]
  },
  {
   "cell_type": "code",
   "execution_count": 5,
   "metadata": {},
   "outputs": [],
   "source": [
    "def mediapipe_video_detection(image,model):\n",
    "    results = model.process(image)\n",
    "    return image,results"
   ]
  },
  {
   "cell_type": "markdown",
   "metadata": {},
   "source": [
    "Rysowanie rozpoznanych punktów kluczowych"
   ]
  },
  {
   "cell_type": "code",
   "execution_count": 6,
   "metadata": {},
   "outputs": [],
   "source": [
    "def draw_styled_landmarks(image, results):\n",
    "    mp_drawing.draw_landmarks(image, results.face_landmarks, mp_holistic.FACEMESH_TESSELATION, \n",
    "                             mp_drawing.DrawingSpec(color=(70,70,200), thickness=1, circle_radius=1), \n",
    "                             mp_drawing.DrawingSpec(color=(70,70,70), thickness=1, circle_radius=1)\n",
    "                             ) \n",
    "    mp_drawing.draw_landmarks(image, results.pose_landmarks, mp_holistic.POSE_CONNECTIONS,\n",
    "                             mp_drawing.DrawingSpec(color=(170,170,170), thickness=2, circle_radius=4), \n",
    "                             mp_drawing.DrawingSpec(color=(70,70,70), thickness=2, circle_radius=2)\n",
    "                             ) \n",
    "    mp_drawing.draw_landmarks(image, results.left_hand_landmarks, mp_holistic.HAND_CONNECTIONS, \n",
    "                             mp_drawing.DrawingSpec(color=(70,200,70), thickness=2, circle_radius=4), \n",
    "                             mp_drawing.DrawingSpec(color=(70,70,70), thickness=2, circle_radius=2)\n",
    "                             ) \n",
    "    mp_drawing.draw_landmarks(image, results.right_hand_landmarks, mp_holistic.HAND_CONNECTIONS, \n",
    "                             mp_drawing.DrawingSpec(color=(200,70,70), thickness=2, circle_radius=4), \n",
    "                             mp_drawing.DrawingSpec(color=(70,70,70), thickness=2, circle_radius=2)\n",
    "                             ) "
   ]
  },
  {
   "cell_type": "markdown",
   "metadata": {},
   "source": [
    "<h1>Zbieranie nagrań</h1>"
   ]
  },
  {
   "cell_type": "markdown",
   "metadata": {},
   "source": [
    "Importowanie"
   ]
  },
  {
   "cell_type": "code",
   "execution_count": 7,
   "metadata": {},
   "outputs": [],
   "source": [
    "from moviepy.editor import *\n",
    "import numpy as np\n",
    "import cv2\n",
    "import os"
   ]
  },
  {
   "cell_type": "markdown",
   "metadata": {},
   "source": [
    "Stałe i zmienne"
   ]
  },
  {
   "cell_type": "code",
   "execution_count": 15,
   "metadata": {},
   "outputs": [],
   "source": [
    "\n",
    "DATA_PATH = os.path.join('videos/PJM') \n",
    "ACTIONS_21 = ['dziękuję','proszę','przepraszam','od','jest','który','ja','gdzie','ty','imię','nazwisko','jeśli','ile','duży','mało','dobrze','źle','wiem','dom','mieszkać','kocham']\n",
    "OLD_9_ACTIONS = ['dziękuję','gdzie','ja','jest','który','mam','od','proszę','przepraszam']\n",
    "ALL_ACTIONS = ACTIONS_21\n",
    "\n",
    "no_sequences = 30\n",
    "sequence_length = 45"
   ]
  },
  {
   "cell_type": "markdown",
   "metadata": {},
   "source": [
    "Tworzenie folderów dla znaków dynamicznych"
   ]
  },
  {
   "cell_type": "code",
   "execution_count": 16,
   "metadata": {},
   "outputs": [],
   "source": [
    "for action in ALL_ACTIONS: \n",
    "    try: \n",
    "        os.makedirs(os.path.join(DATA_PATH,'fps30', action))\n",
    "        os.makedirs(os.path.join(DATA_PATH,'fps15', action))\n",
    "    except:\n",
    "        pass"
   ]
  },
  {
   "cell_type": "markdown",
   "metadata": {},
   "source": [
    "Zbieranie sekwencji"
   ]
  },
  {
   "cell_type": "code",
   "execution_count": 21,
   "metadata": {},
   "outputs": [],
   "source": [
    "actions = np.array(['jest'])\n",
    "\n",
    "cap = cv2.VideoCapture(0)\n",
    "cap.set(cv2.CAP_PROP_FPS, 30)\n",
    "cv2.waitKey(3000)\n",
    "for action in actions:\n",
    "    for sequence in range(1,no_sequences+1):\n",
    "        recorded_frames = []\n",
    "        for frame_num in range(sequence_length+1):\n",
    "            ret, image = cap.read()\n",
    "            \n",
    "            if frame_num == 0: \n",
    "                cv2.rectangle(image, (0,440), (640, 480), (20, 20, 20), -1)\n",
    "                cv2.putText(image, 'COLLECT IN: 3', (20,470),cv2.FONT_HERSHEY_TRIPLEX, 1, (35, 184, 75), 1, cv2.LINE_AA)\n",
    "                cv2.putText(image, 'Sentence: {} , Sample: {}'.format(action, sequence), (330,465), cv2.FONT_HERSHEY_TRIPLEX, 0.5, (250, 250, 250), 1, cv2.LINE_AA)\n",
    "                cv2.imshow('OpenCV Feed', image)\n",
    "                cv2.waitKey(1000)\n",
    "                cv2.rectangle(image, (0,440), (640, 480), (20, 20, 20), -1)\n",
    "                cv2.putText(image, 'COLLECT IN: 2', (20,470),cv2.FONT_HERSHEY_TRIPLEX, 1, (35, 184, 75), 1, cv2.LINE_AA)\n",
    "                cv2.putText(image, 'Sentence: {} , Sample: {}'.format(action, sequence), (330,465), cv2.FONT_HERSHEY_TRIPLEX, 0.5, (250, 250, 250), 1, cv2.LINE_AA)\n",
    "                cv2.imshow('OpenCV Feed', image)\n",
    "                cv2.waitKey(1000)\n",
    "                cv2.rectangle(image, (0,440), (640, 480), (20, 20, 20), -1)\n",
    "                cv2.putText(image, 'COLLECT IN: 1', (20,470),cv2.FONT_HERSHEY_TRIPLEX, 1, (35, 184, 75), 1, cv2.LINE_AA)\n",
    "                cv2.putText(image, 'Sentence: {} , Sample: {}'.format(action, sequence), (330,465), cv2.FONT_HERSHEY_TRIPLEX, 0.5, (250, 250, 250), 1, cv2.LINE_AA)\n",
    "                cv2.imshow('OpenCV Feed', image)\n",
    "                cv2.waitKey(1000)\n",
    "                cv2.rectangle(image, (0,440), (640, 480), (20, 20, 20), -1)\n",
    "                cv2.putText(image, 'GET READY', (20,470),cv2.FONT_HERSHEY_TRIPLEX, 1, (61, 223, 235), 1, cv2.LINE_AA)\n",
    "                cv2.putText(image, 'Sentence: {} , Sample: {}'.format(action, sequence), (330,465), cv2.FONT_HERSHEY_TRIPLEX, 0.5, (250, 250, 250), 1, cv2.LINE_AA)\n",
    "                cv2.imshow('OpenCV Feed', image)\n",
    "                cv2.waitKey(500)\n",
    "            else: \n",
    "                cv2.rectangle(image, (0,440), (640, 480), (20, 20, 20), -1)\n",
    "                cv2.putText(image, 'COLLECTING NOW', (20,470),cv2.FONT_HERSHEY_TRIPLEX, 1, (25, 29, 250), 1, cv2.LINE_AA)\n",
    "                cv2.putText(image, 'Sentence: {} , Sample: {}'.format(action, sequence), (330,465), cv2.FONT_HERSHEY_TRIPLEX, 0.5, (250, 250, 250), 1, cv2.LINE_AA)\n",
    "                cv2.imshow('OpenCV Feed', image)\n",
    "                image = cv2.cvtColor(image, cv2.COLOR_BGR2RGB)\n",
    "                recorded_frames.append(image)  \n",
    "        if cv2.waitKey(10) & 0xFF == ord('q'):\n",
    "            break\n",
    "        save_path_30 = os.path.join(DATA_PATH,'fps30', action,str(sequence)+'.mp4')\n",
    "        save_path_15 = os.path.join(DATA_PATH,'fps15', action,str(sequence)+'.mp4')\n",
    "        clip30 = ImageSequenceClip(recorded_frames, fps=30)\n",
    "        clip30.write_videofile(save_path_30, fps=30,codec=\"libx264\")\n",
    "        clip15 = ImageSequenceClip(recorded_frames, fps=30)\n",
    "        clip15.write_videofile(save_path_15, fps=15,codec=\"libx264\")\n",
    "        \n",
    "                    \n",
    "cap.release()\n",
    "cv2.destroyAllWindows()"
   ]
  },
  {
   "cell_type": "markdown",
   "metadata": {},
   "source": [
    "<h1>Konwersja video na mediapipe keypoints<h1>"
   ]
  },
  {
   "cell_type": "markdown",
   "metadata": {},
   "source": [
    "Stałe i zmienne"
   ]
  },
  {
   "cell_type": "code",
   "execution_count": 17,
   "metadata": {},
   "outputs": [],
   "source": [
    "KEYPOINTS_DATA_PATH = \"dynamicKeypoints/PJM\"\n",
    "FRAMESNO='fps15'"
   ]
  },
  {
   "cell_type": "markdown",
   "metadata": {},
   "source": [
    "Tworzenie folderów dla punkty kluczowe"
   ]
  },
  {
   "cell_type": "code",
   "execution_count": 18,
   "metadata": {},
   "outputs": [],
   "source": [
    "for action in ALL_ACTIONS: \n",
    "    for sequence in range(1,no_sequences+1):\n",
    "        try: \n",
    "            os.makedirs(os.path.join(KEYPOINTS_DATA_PATH,'fps15', action, str(sequence)))\n",
    "            os.makedirs(os.path.join(KEYPOINTS_DATA_PATH,'fps30', action, str(sequence)))\n",
    "        except:\n",
    "            pass"
   ]
  },
  {
   "cell_type": "markdown",
   "metadata": {},
   "source": [
    "Konwersja nagrań na punkty kluczowe"
   ]
  },
  {
   "cell_type": "code",
   "execution_count": 25,
   "metadata": {},
   "outputs": [],
   "source": [
    "\n",
    "from moviepy.editor import *\n",
    "\n",
    "with mp_holistic.Holistic(min_detection_confidence=0.5, min_tracking_confidence=0.5) as holistic:\n",
    "    for action in ALL_ACTIONS:\n",
    "        for sequence in range(1,no_sequences+1):\n",
    "            clip = VideoFileClip(os.path.join(DATA_PATH,FRAMESNO,action,str(sequence)+\".mp4\"))\n",
    "            frames = clip.iter_frames()\n",
    "            clip_fps = clip.fps\n",
    "            counter = 0\n",
    "            for frame in frames:\n",
    "                image, results = mediapipe_video_detection(frame, holistic)\n",
    "                keypoints = extract_keypoints_with_normalization(results)\n",
    "                npy_path = os.path.join(KEYPOINTS_DATA_PATH,FRAMESNO,action,str(sequence),str(counter))\n",
    "                np.save(npy_path, keypoints)\n",
    "                counter += 1\n",
    "     "
   ]
  },
  {
   "cell_type": "markdown",
   "metadata": {},
   "source": [
    "<h1>Szkolenie modelu</h1>"
   ]
  },
  {
   "cell_type": "markdown",
   "metadata": {},
   "source": [
    "Importowanie"
   ]
  },
  {
   "cell_type": "code",
   "execution_count": 26,
   "metadata": {},
   "outputs": [],
   "source": [
    "from sklearn.model_selection import train_test_split\n",
    "from sklearn.utils import shuffle\n",
    "import tensorflow\n",
    "from tensorflow.keras.utils import to_categorical\n",
    "from tensorflow.keras.models import Sequential\n",
    "from tensorflow.keras.layers import LSTM, Dense, GRU, SimpleRNN\n",
    "from tensorflow.keras.callbacks import TensorBoard,Callback"
   ]
  },
  {
   "cell_type": "markdown",
   "metadata": {},
   "source": [
    "Stałe i zmienne"
   ]
  },
  {
   "cell_type": "code",
   "execution_count": 27,
   "metadata": {},
   "outputs": [
    {
     "name": "stdout",
     "output_type": "stream",
     "text": [
      "{'dziękuję': 0, 'proszę': 1, 'przepraszam': 2, 'od': 3, 'jest': 4, 'który': 5, 'ja': 6, 'gdzie': 7, 'ty': 8, 'imię': 9, 'nazwisko': 10, 'jeśli': 11, 'ile': 12, 'duży': 13, 'mało': 14, 'dobrze': 15, 'źle': 16, 'wiem': 17, 'dom': 18, 'mieszkać': 19, 'kocham': 20}\n"
     ]
    }
   ],
   "source": [
    "SEQUENCELENGTH_15FPS = 23\n",
    "\n",
    "log_dir = os.path.join('Logs')\n",
    "tb_callback = TensorBoard(log_dir=log_dir)\n",
    "\n",
    "label_map = {label:num for num, label in enumerate(ALL_ACTIONS)}\n",
    "print(label_map)"
   ]
  },
  {
   "cell_type": "markdown",
   "metadata": {},
   "source": [
    "Wczytanie danych z tablic"
   ]
  },
  {
   "cell_type": "code",
   "execution_count": 28,
   "metadata": {},
   "outputs": [],
   "source": [
    "sequences, labels = [], []\n",
    "for action in ALL_ACTIONS:\n",
    "    for sequence in np.array(os.listdir(os.path.join(KEYPOINTS_DATA_PATH,FRAMESNO, action))).astype(int):\n",
    "        window = []\n",
    "        for frame_num in range(SEQUENCELENGTH_15FPS):\n",
    "            res = np.load(os.path.join(KEYPOINTS_DATA_PATH,FRAMESNO, action, str(sequence), \"{}.npy\".format(frame_num)))\n",
    "            window.append(res)\n",
    "        sequences.append(window)\n",
    "        labels.append(label_map[action])"
   ]
  },
  {
   "cell_type": "markdown",
   "metadata": {},
   "source": [
    "Przygotowanie i podział na zbiory "
   ]
  },
  {
   "cell_type": "code",
   "execution_count": 31,
   "metadata": {},
   "outputs": [
    {
     "name": "stdout",
     "output_type": "stream",
     "text": [
      "x train shape: \n",
      "(504, 23, 195)\n",
      "x val shape: \n",
      "(63, 23, 195)\n",
      "x test shape: \n",
      "(63, 23, 195)\n",
      "x shape: \n",
      "(630, 23, 195)\n",
      "y shape: \n",
      "(630, 21)\n",
      "x_test shape: \n",
      "(63, 23, 195)\n",
      "y_test shape: \n",
      "(63, 21)\n"
     ]
    }
   ],
   "source": [
    "X = np.array(sequences)\n",
    "y = to_categorical(labels).astype(int)\n",
    "X, y = shuffle(X, y, random_state=15)\n",
    "X_train, X_val_test, y_train, y_val_test = train_test_split(X, y,stratify=y,test_size=0.2)\n",
    "X_val, X_test, y_val, y_test = train_test_split(X_val_test, y_val_test,stratify=y_val_test,test_size=0.5)\n",
    "\n",
    "print(\"x train shape: \")\n",
    "print(X_train.shape)\n",
    "print(\"x val shape: \")\n",
    "print(X_val.shape)\n",
    "print(\"x test shape: \")\n",
    "print(X_test.shape)\n",
    "\n",
    "\n",
    "print(\"x shape: \")\n",
    "print(X.shape)\n",
    "print(\"y shape: \")\n",
    "print(y.shape)\n",
    "print(\"x_test shape: \")\n",
    "print(X_test.shape)\n",
    "print(\"y_test shape: \")\n",
    "print(y_test.shape)"
   ]
  },
  {
   "cell_type": "markdown",
   "metadata": {},
   "source": [
    "<h3>Inicjalizacja i szkolenie modelu</h3>"
   ]
  },
  {
   "cell_type": "markdown",
   "metadata": {},
   "source": [
    "Szkolenie LSTM"
   ]
  },
  {
   "cell_type": "code",
   "execution_count": 81,
   "metadata": {},
   "outputs": [
    {
     "name": "stdout",
     "output_type": "stream",
     "text": [
      "Model: \"sequential_43\"\n",
      "_________________________________________________________________\n",
      " Layer (type)                Output Shape              Param #   \n",
      "=================================================================\n",
      " lstm_78 (LSTM)              (None, 23, 64)            66560     \n",
      "                                                                 \n",
      " lstm_79 (LSTM)              (None, 64)                33024     \n",
      "                                                                 \n",
      " dense_129 (Dense)           (None, 64)                4160      \n",
      "                                                                 \n",
      " dense_130 (Dense)           (None, 64)                4160      \n",
      "                                                                 \n",
      " dense_131 (Dense)           (None, 21)                1365      \n",
      "                                                                 \n",
      "=================================================================\n",
      "Total params: 109,269\n",
      "Trainable params: 109,269\n",
      "Non-trainable params: 0\n",
      "_________________________________________________________________\n"
     ]
    }
   ],
   "source": [
    "model2 = Sequential()\n",
    "model2.add(LSTM(64, return_sequences=True, activation='relu', input_shape=(23,195)))\n",
    "model2.add(LSTM(64, return_sequences=False, activation='relu'))\n",
    "model2.add(Dense(64, activation='relu'))\n",
    "model2.add(Dense(64, activation='relu'))\n",
    "model2.add(Dense(np.array(ALL_ACTIONS).shape[0], activation='softmax'))\n",
    "model2.compile(optimizer='Adam', loss='categorical_crossentropy', metrics=['categorical_accuracy'])\n",
    "fit_history = model2.fit(X_train, y_train, epochs=300, callbacks=[tb_callback],validation_data=(X_val,y_val),verbose=0)\n",
    "model2.summary()"
   ]
  },
  {
   "cell_type": "markdown",
   "metadata": {},
   "source": [
    "Szkolenie RNN"
   ]
  },
  {
   "cell_type": "code",
   "execution_count": 83,
   "metadata": {},
   "outputs": [
    {
     "name": "stdout",
     "output_type": "stream",
     "text": [
      "Model: \"sequential_45\"\n",
      "_________________________________________________________________\n",
      " Layer (type)                Output Shape              Param #   \n",
      "=================================================================\n",
      " simple_rnn_4 (SimpleRNN)    (None, 23, 64)            16640     \n",
      "                                                                 \n",
      " simple_rnn_5 (SimpleRNN)    (None, 64)                8256      \n",
      "                                                                 \n",
      " dense_135 (Dense)           (None, 64)                4160      \n",
      "                                                                 \n",
      " dense_136 (Dense)           (None, 64)                4160      \n",
      "                                                                 \n",
      " dense_137 (Dense)           (None, 21)                1365      \n",
      "                                                                 \n",
      "=================================================================\n",
      "Total params: 34,581\n",
      "Trainable params: 34,581\n",
      "Non-trainable params: 0\n",
      "_________________________________________________________________\n"
     ]
    }
   ],
   "source": [
    "model2 = Sequential()\n",
    "model2.add(SimpleRNN(64, return_sequences=True, activation='relu', input_shape=(23,195)))\n",
    "model2.add(SimpleRNN(64, return_sequences=False, activation='relu'))\n",
    "model2.add(Dense(64, activation='relu'))\n",
    "model2.add(Dense(64, activation='relu'))\n",
    "model2.add(Dense(np.array(ALL_ACTIONS).shape[0], activation='softmax'))\n",
    "model2.compile(optimizer='Adam', loss='categorical_crossentropy', metrics=['categorical_accuracy'])\n",
    "model2.fit(X_train, y_train, epochs=300, callbacks=[tb_callback],validation_data=(X_val,y_val),verbose=0)\n",
    "model2.summary()"
   ]
  },
  {
   "cell_type": "markdown",
   "metadata": {},
   "source": [
    "Szkolenie GRU"
   ]
  },
  {
   "cell_type": "code",
   "execution_count": 82,
   "metadata": {},
   "outputs": [
    {
     "name": "stdout",
     "output_type": "stream",
     "text": [
      "Model: \"sequential_44\"\n",
      "_________________________________________________________________\n",
      " Layer (type)                Output Shape              Param #   \n",
      "=================================================================\n",
      " gru_4 (GRU)                 (None, 23, 128)           124800    \n",
      "                                                                 \n",
      " gru_5 (GRU)                 (None, 128)               99072     \n",
      "                                                                 \n",
      " dense_132 (Dense)           (None, 64)                8256      \n",
      "                                                                 \n",
      " dense_133 (Dense)           (None, 64)                4160      \n",
      "                                                                 \n",
      " dense_134 (Dense)           (None, 21)                1365      \n",
      "                                                                 \n",
      "=================================================================\n",
      "Total params: 237,653\n",
      "Trainable params: 237,653\n",
      "Non-trainable params: 0\n",
      "_________________________________________________________________\n"
     ]
    }
   ],
   "source": [
    "model2 = Sequential()\n",
    "model2.add(GRU(128, return_sequences=True, activation='relu', input_shape=(23,195)))\n",
    "model2.add(GRU(128, return_sequences=False, activation='relu'))\n",
    "model2.add(Dense(64, activation='relu'))\n",
    "model2.add(Dense(64, activation='relu'))\n",
    "model2.add(Dense(np.array(ALL_ACTIONS).shape[0], activation='softmax'))\n",
    "model2.compile(optimizer='Adam', loss='categorical_crossentropy', metrics=['categorical_accuracy'])\n",
    "model2.fit(X_train, y_train, epochs=350, callbacks=[tb_callback],validation_data=(X_val,y_val),verbose=0)\n",
    "model2.summary()"
   ]
  },
  {
   "cell_type": "markdown",
   "metadata": {},
   "source": [
    "Zapisanie modelu i prezentacja podsumowania"
   ]
  },
  {
   "cell_type": "code",
   "execution_count": 40,
   "metadata": {},
   "outputs": [],
   "source": [
    "try: \n",
    "    os.makedirs('models')\n",
    "except:\n",
    "    pass"
   ]
  },
  {
   "cell_type": "code",
   "execution_count": 46,
   "metadata": {},
   "outputs": [
    {
     "name": "stdout",
     "output_type": "stream",
     "text": [
      "Model: \"sequential_5\"\n",
      "_________________________________________________________________\n",
      " Layer (type)                Output Shape              Param #   \n",
      "=================================================================\n",
      " gru_2 (GRU)                 (None, 23, 128)           124800    \n",
      "                                                                 \n",
      " gru_3 (GRU)                 (None, 128)               99072     \n",
      "                                                                 \n",
      " dense_15 (Dense)            (None, 64)                8256      \n",
      "                                                                 \n",
      " dense_16 (Dense)            (None, 64)                4160      \n",
      "                                                                 \n",
      " dense_17 (Dense)            (None, 21)                1365      \n",
      "                                                                 \n",
      "=================================================================\n",
      "Total params: 237,653\n",
      "Trainable params: 237,653\n",
      "Non-trainable params: 0\n",
      "_________________________________________________________________\n"
     ]
    }
   ],
   "source": [
    "model2.save('models/PJM_21_full_dynamic_G64-G64-D64-D64_350.h5')\n",
    "model2.summary()"
   ]
  },
  {
   "cell_type": "markdown",
   "metadata": {},
   "source": [
    "Wczytywanie modelu"
   ]
  },
  {
   "cell_type": "code",
   "execution_count": 42,
   "metadata": {},
   "outputs": [],
   "source": [
    "from keras.models import load_model"
   ]
  },
  {
   "cell_type": "code",
   "execution_count": 47,
   "metadata": {},
   "outputs": [],
   "source": [
    "model2 = load_model('models/PJM_21_full_dynamic_G64-G64-D64-D64_350.h5')"
   ]
  },
  {
   "cell_type": "markdown",
   "metadata": {},
   "source": [
    "<h1> Dokładność i macierze błędów </h1>"
   ]
  },
  {
   "cell_type": "markdown",
   "metadata": {},
   "source": [
    "Importowanie z bibliotek"
   ]
  },
  {
   "cell_type": "code",
   "execution_count": 44,
   "metadata": {},
   "outputs": [],
   "source": [
    "import seaborn as sn\n",
    "import pandas as pd\n",
    "import matplotlib.pyplot as plt\n",
    "from sklearn.metrics import multilabel_confusion_matrix, accuracy_score, confusion_matrix"
   ]
  },
  {
   "cell_type": "markdown",
   "metadata": {},
   "source": [
    "Obliczanie wyników dla zbioru testowego"
   ]
  },
  {
   "cell_type": "code",
   "execution_count": 48,
   "metadata": {},
   "outputs": [],
   "source": [
    "yhat = model2.predict(X_test)\n",
    "ytrue = np.argmax(y_test, axis=1).tolist()\n",
    "yhat = np.argmax(yhat, axis=1).tolist()\n",
    "mtrx = multilabel_confusion_matrix(ytrue, yhat)\n",
    "confusion_mtrx = confusion_matrix(ytrue,yhat)\n",
    "accuracy = accuracy_score(ytrue, yhat)"
   ]
  },
  {
   "cell_type": "markdown",
   "metadata": {},
   "source": [
    "Obliczanie wyników dla zbioru walidacyjnego\n"
   ]
  },
  {
   "cell_type": "code",
   "execution_count": 49,
   "metadata": {},
   "outputs": [],
   "source": [
    "yhat_val = model2.predict(X_val)\n",
    "ytrue_val = np.argmax(y_val, axis=1).tolist()\n",
    "yhat_val = np.argmax(yhat_val, axis=1).tolist()\n",
    "mtrx_val = multilabel_confusion_matrix(ytrue_val, yhat_val)\n",
    "confusion_mtrx_val = confusion_matrix(ytrue_val,yhat_val)\n",
    "accuracy_val = accuracy_score(ytrue_val, yhat_val)"
   ]
  },
  {
   "cell_type": "markdown",
   "metadata": {},
   "source": [
    "Dokładność trenująca modelu matematycznego"
   ]
  },
  {
   "cell_type": "code",
   "execution_count": 50,
   "metadata": {},
   "outputs": [
    {
     "name": "stdout",
     "output_type": "stream",
     "text": [
      "Model accuracy: \n",
      "0.9365079365079365\n"
     ]
    }
   ],
   "source": [
    "print(\"Model accuracy: \")\n",
    "print(accuracy)"
   ]
  },
  {
   "cell_type": "markdown",
   "metadata": {},
   "source": [
    "Dokładność walidacyjna modelu matematycznego"
   ]
  },
  {
   "cell_type": "code",
   "execution_count": 51,
   "metadata": {},
   "outputs": [
    {
     "name": "stdout",
     "output_type": "stream",
     "text": [
      "VAL Model accuracy: \n",
      "0.9206349206349206\n"
     ]
    }
   ],
   "source": [
    "print(\"VAL Model accuracy: \")\n",
    "print(accuracy_val)"
   ]
  },
  {
   "cell_type": "markdown",
   "metadata": {},
   "source": [
    "Macierz błędów dla wszystkich znaków"
   ]
  },
  {
   "cell_type": "code",
   "execution_count": 52,
   "metadata": {},
   "outputs": [
    {
     "data": {
      "text/plain": [
       "<Axes: >"
      ]
     },
     "execution_count": 52,
     "metadata": {},
     "output_type": "execute_result"
    },
    {
     "data": {
      "image/png": "[encoded data removed]",
      "text/plain": [
       "<Figure size 1000x800 with 2 Axes>"
      ]
     },
     "metadata": {},
     "output_type": "display_data"
    }
   ],
   "source": [
    "array_val = confusion_mtrx_val\n",
    "df_cm_val = pd.DataFrame(array_val, index = [i for i in ALL_ACTIONS],\n",
    "                  columns = [i for i in ALL_ACTIONS])\n",
    "plt.figure(figsize = (10,8))\n",
    "sn.heatmap(df_cm_val, annot=True,cmap=plt.cm.Oranges)"
   ]
  },
  {
   "cell_type": "code",
   "execution_count": 53,
   "metadata": {},
   "outputs": [
    {
     "data": {
      "text/plain": [
       "<Axes: >"
      ]
     },
     "execution_count": 53,
     "metadata": {},
     "output_type": "execute_result"
    },
    {
     "data": {
      "image/png": "[encoded data removed]",
      "text/plain": [
       "<Figure size 1000x800 with 2 Axes>"
      ]
     },
     "metadata": {},
     "output_type": "display_data"
    }
   ],
   "source": [
    "array = confusion_mtrx\n",
    "df_cm = pd.DataFrame(array, index = [i for i in ALL_ACTIONS],\n",
    "                  columns = [i for i in ALL_ACTIONS])\n",
    "plt.figure(figsize = (10,8))\n",
    "sn.heatmap(df_cm, annot=True,cmap=plt.cm.Blues)"
   ]
  },
  {
   "cell_type": "markdown",
   "metadata": {},
   "source": [
    "TABELA"
   ]
  },
  {
   "cell_type": "markdown",
   "metadata": {},
   "source": [
    "<h1>Szkolenie zbiorowe</h1>"
   ]
  },
  {
   "cell_type": "markdown",
   "metadata": {},
   "source": [
    "Importowanie\n"
   ]
  },
  {
   "cell_type": "code",
   "execution_count": 54,
   "metadata": {},
   "outputs": [],
   "source": [
    "import numpy as np\n",
    "import math\n",
    "import tensorflow\n",
    "from tensorflow.keras.utils import to_categorical\n",
    "from tensorflow.keras.models import Sequential\n",
    "from tensorflow.keras.layers import LSTM, Dense, GRU, SimpleRNN\n",
    "from tensorflow.keras.callbacks import TensorBoard,Callback\n",
    "import os\n",
    "\n",
    "import pandas as pd\n",
    "import matplotlib.pyplot as plt\n",
    "from sklearn.metrics import multilabel_confusion_matrix, accuracy_score, confusion_matrix\n",
    "from sklearn.model_selection import train_test_split\n",
    "import seaborn as sn\n",
    "from sklearn.utils import shuffle\n",
    "\n",
    "import pickle"
   ]
  },
  {
   "cell_type": "markdown",
   "metadata": {},
   "source": [
    "Wczytanie wszystkich wartości dla szkoleń zbiorowych"
   ]
  },
  {
   "cell_type": "code",
   "execution_count": 55,
   "metadata": {},
   "outputs": [],
   "source": [
    "DATA_PATH = os.path.join('videos/PJM') \n",
    "ACTIONS_21 = ['dziękuję','proszę','przepraszam','od','jest','który','ja','gdzie','ty','imię','nazwisko','jeśli','ile','duży','mało','dobrze','źle','wiem','dom','mieszkać','kocham']\n",
    "OLD_9_ACTIONS = ['dziękuję','gdzie','ja','jest','który','mam','od','proszę','przepraszam']\n",
    "ALL_ACTIONS = ACTIONS_21\n",
    "\n",
    "no_sequences = 30\n",
    "sequence_length = 45\n",
    "KEYPOINTS_DATA_PATH = \"dynamicKeypoints/PJM\"\n",
    "FRAMESNO='fps15'\n",
    "SEQUENCELENGTH_15FPS = 23"
   ]
  },
  {
   "cell_type": "markdown",
   "metadata": {},
   "source": [
    "Funkcja pomocnicza do zapisywania matryc "
   ]
  },
  {
   "cell_type": "code",
   "execution_count": 56,
   "metadata": {},
   "outputs": [],
   "source": [
    "def save_matrices(confusion_mtrx_train,confusion_mtrx_val,confusion_mtrx_test,save_name):\n",
    "    df_cm_train = pd.DataFrame(confusion_mtrx_train, index = [i for i in ALL_ACTIONS],\n",
    "                    columns = [i for i in ALL_ACTIONS])\n",
    "    plt.figure(figsize = (10,8))\n",
    "    sn.heatmap(df_cm_train, annot=True,cmap=plt.cm.Greens)\n",
    "    plt.savefig(f\"comparison/matrix/{save_name}_train.png\") \n",
    "    plt.close()\n",
    "\n",
    "    df_cm_val = pd.DataFrame(confusion_mtrx_val, index = [i for i in ALL_ACTIONS],\n",
    "                    columns = [i for i in ALL_ACTIONS])\n",
    "    plt.figure(figsize = (10,8))\n",
    "    sn.heatmap(df_cm_val, annot=True,cmap=plt.cm.Oranges)\n",
    "    plt.savefig(f\"comparison/matrix/{save_name}_val.png\") \n",
    "    plt.close()\n",
    "\n",
    "    df_cm_test = pd.DataFrame(confusion_mtrx_test, index = [i for i in ALL_ACTIONS],\n",
    "                    columns = [i for i in ALL_ACTIONS])\n",
    "    plt.figure(figsize = (10,8))\n",
    "    sn.heatmap(df_cm_test, annot=True,cmap=plt.cm.Blues)\n",
    "    plt.savefig(f\"comparison/matrix/{save_name}_test.png\") \n",
    "    plt.close()"
   ]
  },
  {
   "cell_type": "markdown",
   "metadata": {},
   "source": [
    "Zbiór funkcji do tworzenia przebiegów szkoleń"
   ]
  },
  {
   "cell_type": "code",
   "execution_count": 57,
   "metadata": {},
   "outputs": [],
   "source": [
    "def val_plot(fit_history,save_name):\n",
    "    fig,ax1 = plt.subplots(figsize = (10,8))\n",
    "    ax2 = ax1.twinx()\n",
    "    color_loss = '#D48002'\n",
    "    color_accuracy = '#0072BD'\n",
    "    ax1.plot(fit_history.history['val_loss'], color = color_loss)\n",
    "    ax1.tick_params(axis='y', labelcolor=color_loss)\n",
    "    ax1.set_ylabel('loss', color=color_loss)\n",
    "    ax1.set_xlabel('epochs')\n",
    "    ax2.plot(fit_history.history['val_categorical_accuracy'], color = color_accuracy)\n",
    "    ax2.tick_params(axis='y', labelcolor=color_accuracy)\n",
    "    ax2.set_ylabel('accuracy', color=color_accuracy)\n",
    "    fig.savefig(f\"comparison/plots/{save_name}_val.png\")\n",
    "    plt.close(fig) \n",
    "\n",
    "def train_plot(fit_history,save_name):\n",
    "    fig,ax1 = plt.subplots(figsize = (10,8))\n",
    "    ax2 = ax1.twinx()\n",
    "    color_loss = '#D48002'\n",
    "    color_accuracy = '#0072BD'\n",
    "    ax1.plot(fit_history.history['loss'], color = color_loss)\n",
    "    ax1.tick_params(axis='y', labelcolor=color_loss)\n",
    "    ax1.set_ylabel('loss', color=color_loss)\n",
    "    ax1.set_xlabel('epochs')\n",
    "    ax2.plot(fit_history.history['categorical_accuracy'], color = color_accuracy)\n",
    "    ax2.tick_params(axis='y', labelcolor=color_accuracy)\n",
    "    ax2.set_ylabel('accuracy', color=color_accuracy)\n",
    "    fig.savefig(f\"comparison/plots/{save_name}_train.png\")\n",
    "    plt.close(fig) \n",
    "    \n",
    "def loss_plot(fit_history,save_name):\n",
    "    plt.figure(figsize = (15,12))\n",
    "    plt.plot(fit_history.history['loss'])\n",
    "    plt.plot(fit_history.history['val_loss'])\n",
    "    plt.title('model loss')\n",
    "    plt.ylabel('loss')\n",
    "    plt.xlabel('epoch')\n",
    "    plt.legend(['training','validation'],loc='upper left')\n",
    "    plt.savefig(f\"comparison/plots/{save_name}_loss.png\") \n",
    "    plt.close()\n",
    "\n",
    "def acc_plot(fit_history,save_name):\n",
    "    plt.figure(figsize = (15,12))\n",
    "    plt.plot(fit_history.history['categorical_accuracy'])\n",
    "    plt.plot(fit_history.history['val_categorical_accuracy'])\n",
    "    plt.title('model accuracy')\n",
    "    plt.ylabel('accuracy')\n",
    "    plt.xlabel('epoch')\n",
    "    plt.legend(['training','validation'],loc='upper left')\n",
    "    plt.savefig(f\"comparison/plots/{save_name}_acc.png\") \n",
    "    plt.close()"
   ]
  },
  {
   "cell_type": "markdown",
   "metadata": {},
   "source": [
    "Wczytanie wszystkich sekwencji ruchów zapisanych w formacie tablic"
   ]
  },
  {
   "cell_type": "code",
   "execution_count": 58,
   "metadata": {},
   "outputs": [
    {
     "name": "stdout",
     "output_type": "stream",
     "text": [
      "{'dziękuję': 0, 'proszę': 1, 'przepraszam': 2, 'od': 3, 'jest': 4, 'który': 5, 'ja': 6, 'gdzie': 7, 'ty': 8, 'imię': 9, 'nazwisko': 10, 'jeśli': 11, 'ile': 12, 'duży': 13, 'mało': 14, 'dobrze': 15, 'źle': 16, 'wiem': 17, 'dom': 18, 'mieszkać': 19, 'kocham': 20}\n"
     ]
    }
   ],
   "source": [
    "label_map = {label:num for num, label in enumerate(ALL_ACTIONS)}\n",
    "print(label_map)\n",
    "sequences, labels = [], []\n",
    "for action in ALL_ACTIONS:\n",
    "    for sequence in np.array(os.listdir(os.path.join(KEYPOINTS_DATA_PATH,FRAMESNO, action))).astype(int):\n",
    "        window = []\n",
    "        for frame_num in range(SEQUENCELENGTH_15FPS):\n",
    "            res = np.load(os.path.join(KEYPOINTS_DATA_PATH,FRAMESNO, action, str(sequence), \"{}.npy\".format(frame_num)))\n",
    "            window.append(res)\n",
    "        sequences.append(window)\n",
    "        labels.append(label_map[action])"
   ]
  },
  {
   "cell_type": "markdown",
   "metadata": {},
   "source": [
    "Klasa służąca do pomiaru czasu szkolenia\n"
   ]
  },
  {
   "cell_type": "code",
   "execution_count": 59,
   "metadata": {},
   "outputs": [],
   "source": [
    "from timeit import default_timer as timer\n",
    "\n",
    "class TimingCallback(Callback):\n",
    "    def __init__(self, logs={}):\n",
    "        self.logs=[]\n",
    "    def on_epoch_begin(self, epoch, logs={}):\n",
    "        self.starttime = timer()\n",
    "    def on_epoch_end(self, epoch, logs={}):\n",
    "        self.logs.append(timer()-self.starttime)"
   ]
  },
  {
   "cell_type": "markdown",
   "metadata": {},
   "source": [
    "Funkcja pomocnicza określająca parametr return dla warstwy"
   ]
  },
  {
   "cell_type": "code",
   "execution_count": 60,
   "metadata": {},
   "outputs": [],
   "source": [
    "def shouldReturn(layers,current_index,layer_type):\n",
    "    if (current_index+1) <= (len(layers)-1): \n",
    "        if((layers[current_index+1])[0]==layer_type): \n",
    "            return True\n",
    "        else:\n",
    "            return False\n",
    "    else:\n",
    "        return False"
   ]
  },
  {
   "cell_type": "markdown",
   "metadata": {},
   "source": [
    "Funkcja pomocnicza tworząca model z tekstu o zadanej strukturze"
   ]
  },
  {
   "cell_type": "code",
   "execution_count": 61,
   "metadata": {},
   "outputs": [],
   "source": [
    "def createLayers(txt):\n",
    "  layers = txt.split(\"-\")\n",
    "  creation_model = Sequential()\n",
    "  for index, layer in enumerate(layers):\n",
    "    layer_type = layer[0]\n",
    "    layer_neurons = int(layer[1:])\n",
    "    isFirstLayer = index == 0\n",
    "    if isFirstLayer:\n",
    "      if layer_type == 'L':\n",
    "        shouldBeReturned = shouldReturn(layers,index,layer_type)\n",
    "        creation_model.add(LSTM(layer_neurons, return_sequences=shouldBeReturned, activation='relu', input_shape=(23,195)))\n",
    "      if layer_type =='G':\n",
    "        shouldBeReturned = shouldReturn(layers,index,layer_type)\n",
    "        creation_model.add(GRU(layer_neurons, return_sequences=shouldBeReturned, activation='relu', input_shape=(23,195)))\n",
    "      if layer_type =='R':\n",
    "        shouldBeReturned = shouldReturn(layers,index,layer_type)\n",
    "        creation_model.add(SimpleRNN(layer_neurons, return_sequences=shouldBeReturned, activation='relu', input_shape=(23,195)))\n",
    "      if layer_type =='D':\n",
    "        creation_model.add(Dense(layer_neurons, activation='relu'))\n",
    "    else:\n",
    "      if layer_type == 'L':\n",
    "        shouldBeReturned = shouldReturn(layers,index,layer_type)\n",
    "        creation_model.add(LSTM(layer_neurons, return_sequences=shouldBeReturned, activation='relu'))\n",
    "      if layer_type =='G':\n",
    "        shouldBeReturned = shouldReturn(layers,index,layer_type)\n",
    "        creation_model.add(GRU(layer_neurons, return_sequences=shouldBeReturned, activation='relu'))\n",
    "      if layer_type =='R':\n",
    "        shouldBeReturned = shouldReturn(layers,index,layer_type)\n",
    "        creation_model.add(SimpleRNN(layer_neurons, return_sequences=shouldBeReturned, activation='relu'))\n",
    "      if layer_type =='D':\n",
    "        creation_model.add(Dense(layer_neurons, activation='relu'))\n",
    "  creation_model.add(Dense(np.array(ALL_ACTIONS).shape[0], activation='softmax'))\n",
    "  return creation_model"
   ]
  },
  {
   "cell_type": "markdown",
   "metadata": {},
   "source": [
    "Funkcja szkoląca, zapisująca model, przebiegi szkolenia oraz wyniki dokładności"
   ]
  },
  {
   "cell_type": "code",
   "execution_count": 63,
   "metadata": {},
   "outputs": [],
   "source": [
    "def train_model(model2,epochs,X_train,y_train,X_val,y_val,X_test,y_test,model_name,iteration,file):\n",
    "    total_time_callback = TimingCallback()\n",
    "\n",
    "    model2.compile(optimizer='Adam', loss='categorical_crossentropy', metrics=['categorical_accuracy'])\n",
    "    fit_history = model2.fit(X_train, y_train, epochs=epochs, callbacks=[total_time_callback],validation_data=(X_val,y_val),verbose=0)\n",
    "\n",
    "    model_save = f\"a_{model_name}_{epochs}_{iteration}\"\n",
    "    model_save_name = f\"comparison/models/PJM_21_DM_{model_save}.h5\"\n",
    "    model2.save(model_save_name)\n",
    "    val_plot(fit_history,model_save)\n",
    "    train_plot(fit_history,model_save)\n",
    "    loss_plot(fit_history,model_save)\n",
    "    acc_plot(fit_history,model_save)\n",
    "\n",
    "    yhat_train = model2.predict(X_train)\n",
    "    ytrue_train = np.argmax(y_train, axis=1).tolist()\n",
    "    yhat_train = np.argmax(yhat_train, axis=1).tolist()\n",
    "    confusion_mtrx_train = confusion_matrix(ytrue_train,yhat_train)\n",
    "    accuracy_train = accuracy_score(ytrue_train, yhat_train)\n",
    "\n",
    "    yhat = model2.predict(X_test)\n",
    "    ytrue = np.argmax(y_test, axis=1).tolist()\n",
    "    yhat = np.argmax(yhat, axis=1).tolist()\n",
    "    confusion_mtrx_test = confusion_matrix(ytrue,yhat)\n",
    "    accuracy_test = accuracy_score(ytrue, yhat)\n",
    "\n",
    "    yhat_val = model2.predict(X_val)\n",
    "    ytrue_val = np.argmax(y_val, axis=1).tolist()\n",
    "    yhat_val = np.argmax(yhat_val, axis=1).tolist()\n",
    "    confusion_mtrx_val = confusion_matrix(ytrue_val,yhat_val)\n",
    "    accuracy_val = accuracy_score(ytrue_val, yhat_val)\n",
    "\n",
    "    save_matrices(confusion_mtrx_train,confusion_mtrx_val,confusion_mtrx_test,model_save)\n",
    "    model_summary = f\"{model_name} a E{epochs} #{iteration} - TIME {round(sum(total_time_callback.logs),2)}s, TRAIN {round(accuracy_train*100,2)}%, VAL {round(accuracy_val*100,2)}% , TEST {round(accuracy_test*100,2)}%\"\n",
    "    file.write(\"\\n\")\n",
    "    file.write(model_summary)\n",
    "    print(model_summary)\n"
   ]
  },
  {
   "cell_type": "markdown",
   "metadata": {},
   "source": [
    "Funkcja szkoląca model dla 4-krotnie dla każdej z 4 różnych epoch "
   ]
  },
  {
   "cell_type": "code",
   "execution_count": 64,
   "metadata": {},
   "outputs": [],
   "source": [
    "def create_train_save(model_name,X_train,y_train,X_val,y_val,X_test,y_test):\n",
    "    epochs = [600,400,200,100]\n",
    "    for epoch in epochs:\n",
    "        for i in range(1,5):\n",
    "            file = open(\"comparison/model_comparison.txt\", \"a\")\n",
    "            createdModel = createLayers(model_name)\n",
    "            train_model(createdModel,epoch,X_train,y_train,X_val,y_val,X_test,y_test,model_name,str(i),file)\n",
    "            file.close()\n",
    "        "
   ]
  },
  {
   "cell_type": "markdown",
   "metadata": {},
   "source": [
    "Podział na zbiory trenujący, wlidacyjny i testowy"
   ]
  },
  {
   "cell_type": "code",
   "execution_count": 62,
   "metadata": {},
   "outputs": [],
   "source": [
    "X = np.array(sequences)\n",
    "y = to_categorical(labels).astype(int)\n",
    "X, y = shuffle(X, y, random_state=25)\n",
    "X_train, X_val_test, y_train, y_val_test = train_test_split(X, y,stratify=y,test_size=0.2)\n",
    "X_val, X_test, y_val, y_test = train_test_split(X_val_test, y_val_test,stratify=y_val_test,test_size=0.5)"
   ]
  },
  {
   "cell_type": "markdown",
   "metadata": {},
   "source": [
    "Zapisanie podziału na zbiory trenujący, walidacyjny i testowy"
   ]
  },
  {
   "cell_type": "code",
   "execution_count": null,
   "metadata": {},
   "outputs": [],
   "source": [
    "with open('b_train_pkl.pkl', 'wb') as f1:\n",
    "    pickle.dump([X_train, y_train], f1)\n",
    "    f1.close()\n",
    "\n",
    "with open('b_val_pkl.pkl', 'wb') as f2: \n",
    "    pickle.dump([X_val, y_val], f2)\n",
    "    f2.close()\n",
    "\n",
    "with open('b_test_pkl.pkl', 'wb') as f3: \n",
    "    pickle.dump([X_test, y_test], f3)\n",
    "    f3.close()"
   ]
  },
  {
   "cell_type": "markdown",
   "metadata": {},
   "source": [
    "Wczytanie zbiorów trenującego, walidacyjnego i testowego"
   ]
  },
  {
   "cell_type": "code",
   "execution_count": 34,
   "metadata": {},
   "outputs": [],
   "source": [
    "with open('a_train_pkl.pkl','rb') as f1: \n",
    "    X_train, y_train = pickle.load(f1)\n",
    "    f1.close()\n",
    "\n",
    "with open('a_val_pkl.pkl','rb') as f2:\n",
    "    X_val, y_val = pickle.load(f2)\n",
    "    f2.close()\n",
    "\n",
    "with open('a_test_pkl.pkl','rb') as f3:\n",
    "    X_test, y_test = pickle.load(f3)\n",
    "    f3.close()"
   ]
  },
  {
   "cell_type": "markdown",
   "metadata": {},
   "source": [
    "Tworzenie struktury folderów do zapisu wyników szkoleń"
   ]
  },
  {
   "cell_type": "code",
   "execution_count": null,
   "metadata": {},
   "outputs": [],
   "source": [
    "try: \n",
    "    os.makedirs('comparison')\n",
    "    os.makedirs(os.path.join('comparison','plots'))\n",
    "    os.makedirs(os.path.join('comparison','matrix'))\n",
    "    os.makedirs(os.path.join('comparison','models'))\n",
    "except:\n",
    "    pass"
   ]
  },
  {
   "cell_type": "markdown",
   "metadata": {},
   "source": [
    "4-krotne szkolenie modeli dla różnych wartości epoch"
   ]
  },
  {
   "cell_type": "code",
   "execution_count": 79,
   "metadata": {},
   "outputs": [
    {
     "name": "stdout",
     "output_type": "stream",
     "text": [
      "L64-L64-D64-D64 a E600 #1 - TIME 367.55s, TRAIN 97.82%, VAL 95.24% , TEST 92.06%\n",
      "L64-L64-D64-D64 a E600 #2 - TIME 390.99s, TRAIN 99.8%, VAL 92.06% , TEST 90.48%\n",
      "L64-L64-D64-D64 a E600 #3 - TIME 361.12s, TRAIN 95.04%, VAL 92.06% , TEST 92.06%\n",
      "L64-L64-D64-D64 a E600 #4 - TIME 354.46s, TRAIN 99.8%, VAL 90.48% , TEST 93.65%\n",
      "L64-L64-D64-D64 a E400 #1 - TIME 261.59s, TRAIN 99.8%, VAL 96.83% , TEST 92.06%\n",
      "L64-L64-D64-D64 a E400 #2 - TIME 265.2s, TRAIN 99.8%, VAL 90.48% , TEST 93.65%\n",
      "L64-L64-D64-D64 a E400 #3 - TIME 268.85s, TRAIN 99.8%, VAL 95.24% , TEST 93.65%\n",
      "L64-L64-D64-D64 a E400 #4 - TIME 298.7s, TRAIN 99.8%, VAL 92.06% , TEST 93.65%\n",
      "L64-L64-D64-D64 a E200 #1 - TIME 127.84s, TRAIN 97.22%, VAL 88.89% , TEST 88.89%\n",
      "L64-L64-D64-D64 a E200 #2 - TIME 128.69s, TRAIN 99.8%, VAL 95.24% , TEST 93.65%\n",
      "L64-L64-D64-D64 a E200 #3 - TIME 135.75s, TRAIN 93.06%, VAL 88.89% , TEST 88.89%\n",
      "L64-L64-D64-D64 a E200 #4 - TIME 165.19s, TRAIN 95.04%, VAL 85.71% , TEST 88.89%\n",
      "L64-L64-D64-D64 a E100 #1 - TIME 79.4s, TRAIN 90.28%, VAL 87.3% , TEST 88.89%\n",
      "L64-L64-D64-D64 a E100 #2 - TIME 73.54s, TRAIN 97.42%, VAL 88.89% , TEST 93.65%\n",
      "L64-L64-D64-D64 a E100 #3 - TIME 73.34s, TRAIN 95.63%, VAL 93.65% , TEST 92.06%\n",
      "L64-L64-D64-D64 a E100 #4 - TIME 74.85s, TRAIN 97.62%, VAL 92.06% , TEST 96.83%\n",
      "L64-L64-D32-D32 a E600 #1 - TIME 516.39s, TRAIN 99.8%, VAL 90.48% , TEST 95.24%\n",
      "L64-L64-D32-D32 a E600 #2 - TIME 477.97s, TRAIN 99.8%, VAL 98.41% , TEST 92.06%\n",
      "L64-L64-D32-D32 a E600 #3 - TIME 451.32s, TRAIN 99.8%, VAL 93.65% , TEST 92.06%\n",
      "L64-L64-D32-D32 a E600 #4 - TIME 431.11s, TRAIN 99.8%, VAL 93.65% , TEST 93.65%\n",
      "L64-L64-D32-D32 a E400 #1 - TIME 284.43s, TRAIN 95.44%, VAL 92.06% , TEST 88.89%\n",
      "L64-L64-D32-D32 a E400 #2 - TIME 366.79s, TRAIN 99.8%, VAL 98.41% , TEST 92.06%\n",
      "L64-L64-D32-D32 a E400 #3 - TIME 337.02s, TRAIN 99.8%, VAL 96.83% , TEST 95.24%\n",
      "L64-L64-D32-D32 a E400 #4 - TIME 299.64s, TRAIN 99.8%, VAL 96.83% , TEST 90.48%\n",
      "L64-L64-D32-D32 a E200 #1 - TIME 139.34s, TRAIN 93.65%, VAL 90.48% , TEST 88.89%\n",
      "L64-L64-D32-D32 a E200 #2 - TIME 136.97s, TRAIN 96.83%, VAL 90.48% , TEST 88.89%\n",
      "L64-L64-D32-D32 a E200 #3 - TIME 135.52s, TRAIN 99.21%, VAL 92.06% , TEST 95.24%\n",
      "L64-L64-D32-D32 a E200 #4 - TIME 133.6s, TRAIN 99.4%, VAL 92.06% , TEST 95.24%\n",
      "L64-L64-D32-D32 a E100 #1 - TIME 88.73s, TRAIN 96.83%, VAL 87.3% , TEST 87.3%\n",
      "L64-L64-D32-D32 a E100 #2 - TIME 82.38s, TRAIN 97.02%, VAL 92.06% , TEST 87.3%\n",
      "L64-L64-D32-D32 a E100 #3 - TIME 75.02s, TRAIN 96.43%, VAL 95.24% , TEST 87.3%\n",
      "L64-L64-D32-D32 a E100 #4 - TIME 74.91s, TRAIN 96.03%, VAL 85.71% , TEST 92.06%\n"
     ]
    }
   ],
   "source": [
    "model_names_LSTM_1 = [\"L64-L64-D64-D64\",\"L64-L64-D32-D32\"]\n",
    "model_names_GRU_1 = [\"G64-G64-D64-D64\",\"G64-G64-D32-D32\",\"G32-G32-D32-D32\"]\n",
    "model_names_RNN_1 = [\"R64-R64-D64-D64\",\"R64-R64-D32-D32\"]\n",
    "model_names = model_names_LSTM_1\n",
    "file = open(\"comparison/model_comparison.txt\", \"a\")\n",
    "file.write(\"\\n\")\n",
    "file.write(\"MODEL COMPARISON\")\n",
    "file.write(\"\\n\")\n",
    "file.write(\"\\n\")\n",
    "file.close()\n",
    "for model_name in model_names:\n",
    "    create_train_save(model_name,X_train,y_train,X_val,y_val,X_test,y_test)"
   ]
  },
  {
   "cell_type": "markdown",
   "metadata": {},
   "source": [
    "<h2>Test modelu tflite</h2>"
   ]
  },
  {
   "cell_type": "code",
   "execution_count": 49,
   "metadata": {},
   "outputs": [
    {
     "name": "stdout",
     "output_type": "stream",
     "text": [
      "(63, 21)\n"
     ]
    }
   ],
   "source": [
    "import numpy as np\n",
    "import tensorflow as tf\n",
    "\n",
    "interpreter = tf.lite.Interpreter(model_path=\"comparison/PJM_21_complete_lstm_model_1.tflite\")\n",
    "interpreter.allocate_tensors()\n",
    "input_details = interpreter.get_input_details()\n",
    "output_details = interpreter.get_output_details()\n",
    "input_shape = input_details[0]['shape']\n",
    "input_data = np.array(X_test, dtype=np.float32)\n",
    "output_list = []\n",
    "for single_input in input_data:\n",
    "    single_inp = single_input.reshape((1, 23, 195))\n",
    "    interpreter.set_tensor(input_details[0]['index'], single_inp)\n",
    "    interpreter.invoke()\n",
    "    output_data = interpreter.get_tensor(output_details[0]['index']).reshape(21)\n",
    "    output_list.append(output_data)\n",
    "output_array = np.array(output_list)\n",
    "print(output_array.shape)"
   ]
  },
  {
   "cell_type": "code",
   "execution_count": 48,
   "metadata": {},
   "outputs": [
    {
     "name": "stdout",
     "output_type": "stream",
     "text": [
      "0.9841269841269841\n"
     ]
    }
   ],
   "source": [
    "yhat = output_array\n",
    "ytrue = np.argmax(y_test, axis=1).tolist()\n",
    "yhat = np.argmax(yhat, axis=1).tolist()\n",
    "accuracy = accuracy_score(ytrue, yhat)\n",
    "print(accuracy)"
   ]
  }
 ],
 "metadata": {
  "kernelspec": {
   "display_name": "base",
   "language": "python",
   "name": "python3"
  },
  "language_info": {
   "codemirror_mode": {
    "name": "ipython",
    "version": 3
   },
   "file_extension": ".py",
   "mimetype": "text/x-python",
   "name": "python",
   "nbconvert_exporter": "python",
   "pygments_lexer": "ipython3",
   "version": "3.10.9"
  }
 },
 "nbformat": 4,
 "nbformat_minor": 2
}
